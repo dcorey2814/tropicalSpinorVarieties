{
 "cells": [
  {
   "cell_type": "markdown",
   "metadata": {},
   "source": [
    "# Delta-matroid subdivisions of $\\Delta(4)$\n",
    "\n",
    "In this ```polymake``` notebook, we determine all $\\Delta$-matroid subdivisions of the $\\Delta$-hypersimplex $\\Delta(4)$. This was done in [*Isotropical linear spaces and valuated Delta-matroids*](https://www.sciencedirect.com/science/article/pii/S0097316511001221?via%3Dihub) by Rinc&oacute;n, but we redo this computation here in a way that is consistent with our paper. "
   ]
  },
  {
   "cell_type": "code",
   "execution_count": 1,
   "metadata": {},
   "outputs": [],
   "source": [
    "use application 'polytope';"
   ]
  },
  {
   "cell_type": "markdown",
   "metadata": {},
   "source": [
    "The fan $\\operatorname*{Dr}(4)$ lives in $\\mathbb{R}^{E(4)}$ where $E(n)$ is the set of subsets $\\lambda$ of $[n]$ such that $n-|\\lambda|$ is even. The standard unit coordinate vectors of $\\mathbb{R}^{E(4)}$ are labeled by $f_{\\lambda}$  for $\\lambda \\in E(4)$, and given the following ordering.\n",
    "\n",
    "\\begin{equation}\n",
    "f_{\\emptyset},\\, f_{01},\\, f_{02},\\, f_{03},\\, f_{12},\\, f_{13},\\, f_{23},\\, f_{0123}.\n",
    "\\end{equation}"
   ]
  },
  {
   "cell_type": "code",
   "execution_count": 2,
   "metadata": {},
   "outputs": [],
   "source": [
    "$fe = new Vector<Rational>([1, 0, 0, 0, 0, 0, 0, 0]);\n",
    "$f01 = new Vector<Rational>([0, 1, 0, 0, 0, 0, 0, 0]);\n",
    "$f02 = new Vector<Rational>([0, 0, 1, 0, 0, 0, 0, 0]);\n",
    "$f03 = new Vector<Rational>([0, 0, 0, 1, 0, 0, 0, 0]);\n",
    "$f12 = new Vector<Rational>([0, 0, 0, 0, 1, 0, 0, 0]);\n",
    "$f13 = new Vector<Rational>([0, 0, 0, 0, 0, 1, 0, 0]);\n",
    "$f23 = new Vector<Rational>([0, 0, 0, 0, 0, 0, 1, 0]);\n",
    "$f0123 = new Vector<Rational>([0, 0, 0, 0, 0, 0, 0, 1]);"
   ]
  },
  {
   "cell_type": "markdown",
   "metadata": {},
   "source": [
    "Next, we use the fact that $\\operatorname*{T}\\mathbb{S}_4^{\\circ}$, equipped with its Gr&ouml;bner fan structure, is equal to the $\\operatorname{Dr}(4)$, equipped with its secondary fan structure. The fan $\\operatorname*{T}\\mathbb{S}_4^{\\circ}$ was computed using ```gfan```. The raw data is recorded in ```TS4.txt```, which was modified in the paper to be more readable. \n",
    "\n",
    "Recall that the group $W(D_4) \\cong \\mathfrak{S}_4 \\ltimes (\\mathfrak{S}_2)^3$ acts on the fan $\\operatorname*{Dr}(4)$. Up to this symmetry, there are 3 cones. Here are relative interior representatives of these cones."
   ]
  },
  {
   "cell_type": "code",
   "execution_count": 3,
   "metadata": {},
   "outputs": [],
   "source": [
    "$w0 = $f01 + $f23;\n",
    "$w1 = $f01 + $f23 + $f03 + $f12;"
   ]
  },
  {
   "cell_type": "markdown",
   "metadata": {},
   "source": [
    "The polytope $\\Delta(4)$ is the convex hull in $\\mathbb{R}^4$ of the vectors\n",
    "\n",
    "\\begin{equation}\n",
    "e_{\\emptyset},\\, e_{01},\\, e_{02},\\, e_{03},\\, e_{12},\\, e_{13},\\, e_{23},\\, e_{0123}\n",
    "\\end{equation}\n",
    "\n",
    "where $e_0,\\ldots,e_3$ is the standard basis of $\\mathbb{R}^4$, and $e_{\\lambda_1\\cdots\\lambda_d} = e_{\\lambda_1} + \\cdots + e_{\\lambda_d}$. We record $\\Delta(4)$ as the ```Polytope``` denoted by  ```$Delta4```."
   ]
  },
  {
   "cell_type": "code",
   "execution_count": 4,
   "metadata": {},
   "outputs": [],
   "source": [
    "$Delta4 = new Polytope(POINTS => [[1,0,0,0,0], [1,1,1,0,0], [1,1,0,1,0], [1,1,0,0,1], \n",
    "                                  [1,0,1,1,0], [1,0,1,0,1], [1,0,0,1,1], [1,1,1,1,1]]);"
   ]
  },
  {
   "cell_type": "markdown",
   "metadata": {},
   "source": [
    "The $\\Delta$-matroid subdivision of $\\Delta(5)$ may now be computed."
   ]
  },
  {
   "cell_type": "code",
   "execution_count": 5,
   "metadata": {},
   "outputs": [
    {
     "data": {
      "text/html": [
       "<details><summary><pre style=\"display:inline\"><small>Click here for additional output</small></pre></summary>\n",
       "<pre>\n",
       "polymake: used package cdd\n",
       "  cddlib\n",
       "  Implementation of the double description method of Motzkin et al.\n",
       "  Copyright by Komei Fukuda.\n",
       "  http://www-oldurls.inf.ethz.ch/personal/fukudak/cdd_home/\n",
       "\n",
       "</pre>\n",
       "</details>\n"
      ]
     },
     "metadata": {},
     "output_type": "display_data"
    }
   ],
   "source": [
    "$msd0 = new fan::SubdivisionOfPoints(POINTS=>$Delta4->VERTICES, WEIGHTS => $w0);\n",
    "$msd1 = new fan::SubdivisionOfPoints(POINTS=>$Delta4->VERTICES, WEIGHTS => $w1);"
   ]
  },
  {
   "cell_type": "markdown",
   "metadata": {},
   "source": [
    "To find the maximal cells of the subdivision `$msdi` (for $i=0,1$), run:\n",
    "\n",
    "`print $msdi -> MAXIMAL_CELLS;`\n",
    "\n",
    "The indices refer to the vertices of $\\Delta(5)$, and the order was described above. To find the (edges of) the dual graph of `$msdi`, run\n",
    "\n",
    "```print $msdi -> POLYHEDRAL_COMPLEX -> DUAL_GRAPH -> EDGES;```.\n",
    "\n",
    "Each line is a pair of numbers which refer to the indices of the maximal cells. "
   ]
  },
  {
   "cell_type": "code",
   "execution_count": 6,
   "metadata": {},
   "outputs": [
    {
     "data": {
      "text/plain": [
       "Maximal cells: \n",
       "{0 2 3 4 5 6 7}\n",
       "{0 1 2 3 4 5 7}\n",
       "\n",
       "Edges of the dual graph: \n",
       "{0 1}\n"
      ]
     },
     "execution_count": 6,
     "metadata": {},
     "output_type": "execute_result"
    },
    {
     "data": {
      "text/html": [
       "<details><summary><pre style=\"display:inline\"><small>Click here for additional output</small></pre></summary>\n",
       "<pre>\n",
       "polymake: used package ppl\n",
       "  The Parma Polyhedra Library ([[wiki:external_software#PPL]]): A C++ library for convex polyhedra\n",
       "  and other numerical abstractions.\n",
       "  http://www.cs.unipr.it/ppl/\n",
       "\n",
       "</pre>\n",
       "</details>\n"
      ]
     },
     "metadata": {},
     "output_type": "display_data"
    }
   ],
   "source": [
    "print \"Maximal cells: \\n\";\n",
    "print $msd0 -> MAXIMAL_CELLS;\n",
    "print \"\\nEdges of the dual graph: \\n\";\n",
    "print $msd0 -> POLYHEDRAL_COMPLEX -> DUAL_GRAPH -> EDGES;"
   ]
  },
  {
   "cell_type": "code",
   "execution_count": 7,
   "metadata": {},
   "outputs": [
    {
     "data": {
      "text/plain": [
       "Maximal cells: \n",
       "{0 1 2 3 5 7}\n",
       "{0 2 3 5 6 7}\n",
       "{0 2 4 5 6 7}\n",
       "{0 1 2 4 5 7}\n",
       "\n",
       "Edges of the dual graph: \n",
       "{0 1}\n",
       "{1 2}\n",
       "{0 3}\n",
       "{2 3}\n"
      ]
     },
     "execution_count": 7,
     "metadata": {},
     "output_type": "execute_result"
    }
   ],
   "source": [
    "print \"Maximal cells: \\n\";\n",
    "print $msd1 -> MAXIMAL_CELLS;\n",
    "print \"\\nEdges of the dual graph: \\n\";\n",
    "print $msd1 -> POLYHEDRAL_COMPLEX -> DUAL_GRAPH -> EDGES;"
   ]
  }
 ],
 "metadata": {
  "kernelspec": {
   "display_name": "polymake",
   "language": "polymake",
   "name": "polymake"
  },
  "language_info": {
   "codemirror_mode": "perl",
   "file_extension": ".pl",
   "mimetype": "text/x-polymake",
   "name": "polymake"
  }
 },
 "nbformat": 4,
 "nbformat_minor": 4
}
