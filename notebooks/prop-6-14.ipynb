{
 "cells": [
  {
   "cell_type": "markdown",
   "metadata": {},
   "source": [
    "## Supplement to Proposition 6.14\n",
    "\n",
    "In Proposition 6.14, we produce an example of a $w \\in T\\mathbb{S}_8^{\\circ}$ where the closed immersion in Theorem 1.1 is not an isomorphism. In this notebook, we record all the computations appearing in the proof. This works with Oscar 0.11.3. \n",
    "\n",
    "**Note** this notebook is `1`-indexed, whereas the paper is `0`-indexed. "
   ]
  },
  {
   "cell_type": "code",
   "execution_count": 1,
   "metadata": {},
   "outputs": [
    {
     "name": "stdout",
     "output_type": "stream",
     "text": [
      "\r",
      " -----    -----    -----      -      -----   \n",
      "|     |  |     |  |     |    | |    |     |  \n",
      "|     |  |        |         |   |   |     |  \n",
      "|     |   -----   |        |     |  |-----   \n",
      "|     |        |  |        |-----|  |   |    \n",
      "|     |  |     |  |     |  |     |  |    |   \n",
      " -----    -----    -----   -     -  -     -  \n",
      "\n",
      "...combining (and extending) ANTIC, GAP, Polymake and Singular\n",
      "Version\u001b[32m 0.10.0 \u001b[39m... \n",
      " ... which comes with absolutely no warranty whatsoever\n",
      "Type: '?Oscar' for more information\n",
      "(c) 2019-2022 by The Oscar Development Team\n"
     ]
    },
    {
     "data": {
      "text/plain": [
       "twist (generic function with 1 method)"
      ]
     },
     "execution_count": 1,
     "metadata": {},
     "output_type": "execute_result"
    }
   ],
   "source": [
    "using Oscar\n",
    "using Combinatorics\n",
    "pm = Polymake\n",
    "\n",
    "cd(\"..\")\n",
    "currentDir = pwd()\n",
    "include(joinpath(currentDir, \"src/pfaffian_functions.jl\"))"
   ]
  },
  {
   "cell_type": "markdown",
   "metadata": {},
   "source": [
    "Let $M_{\\text{oct}}$ be the $(4,8)$-matroid with nonbases\n",
    "\\begin{equation}\n",
    "1234, 1256, 1278, 1357, 1368, 1458, 2367, 2457, 2468, 3456, 3478, 5678.\n",
    "\\end{equation}\n",
    "The 8 supporting hyperplanes of the octahedron in $\\mathbb{P}^{3}$ is a realization of this matroid. We record this matroid as `Moct`, and its nonbases as `Boct`.  "
   ]
  },
  {
   "cell_type": "code",
   "execution_count": 2,
   "metadata": {},
   "outputs": [
    {
     "data": {
      "text/plain": [
       "Matroid of rank 4 on 8 elements"
      ]
     },
     "execution_count": 2,
     "metadata": {},
     "output_type": "execute_result"
    }
   ],
   "source": [
    "# The normal vectors to the supporting hyperplanes of the standard octahedron\n",
    "A = Matrix{Int64}(\n",
    "    [1 -1 -1 -1;\n",
    "     1 1 -1 -1;\n",
    "     1 -1 1 -1;\n",
    "     1 1 1 -1;\n",
    "     1 -1 -1 1;\n",
    "     1 1 -1 1;\n",
    "     1 -1 1 1;\n",
    "     1 1 1 1])\n",
    "\n",
    "c48 = collect(powerset(1:8, 4, 4))\n",
    "\n",
    "Boct = [a for a in c48 if det(A[a, 1:4]) == 0]\n",
    "Moct = matroid_from_nonbases(Boct, 8)"
   ]
  },
  {
   "cell_type": "markdown",
   "metadata": {},
   "source": [
    "Now, let $w$ be the corank vector of $M_{\\text{oct}}$, viewed as an even $\\Delta$-matroid. This is the vector in $\\mathbb{R}^{E(8)}\\cong \\mathbb{R}^{128}$ given by\n",
    "\\begin{equation*}\n",
    "w_{\\lambda} = 4 \\; \\text{ if } \\; |\\lambda| = 0, 8, \n",
    "\\hspace{10pt} \n",
    "w_{\\lambda} = 2 \\text{ if } |\\lambda| = 2, 6,\n",
    "\\hspace{10pt} \n",
    "w_{\\lambda} = 1 \\text{ if }  \\lambda \\in \\textstyle{\\binom{[8]}{4}} \\setminus B_{\\text{oct}},\n",
    "\\hspace{10pt} \n",
    "w_{\\lambda} = 0 \\text{ if }  \\lambda \\in B_{\\text{oct}}.\n",
    "\\end{equation*}"
   ]
  },
  {
   "cell_type": "code",
   "execution_count": 3,
   "metadata": {},
   "outputs": [],
   "source": [
    "even = [a for a in collect(powerset(1:8)) if length(a)%2 == 0]\n",
    "\n",
    "w = zeros(Int64, 128)\n",
    "for i in 1:128\n",
    "    if (length(even[i]) == 0 ||  length(even[i]) == 8)\n",
    "        w[i] = 4\n",
    "    elseif  (length(even[i]) == 2 ||  length(even[i]) == 6)\n",
    "        w[i] = 2\n",
    "    elseif even[i] in Boct\n",
    "        w[i] = 1\n",
    "    end\n",
    "end"
   ]
  },
  {
   "cell_type": "markdown",
   "metadata": {},
   "source": [
    "We compute the regular subdivision of $\\Delta(8)$ with respect to $w$. Here,\n",
    "\n",
    "- `Delta`  $ = \\Delta(8)$\n",
    "- `SOP`  $ = \\Delta_{w}$ the subdivision.\n",
    "- `MCs` $ = $ the maximal cells.\n",
    "- `G` = $\\Gamma_{w}$ the dual graph.\n",
    "- `Ms` = a list of the even $\\Delta$-matroids of the maximal cells."
   ]
  },
  {
   "cell_type": "code",
   "execution_count": 4,
   "metadata": {},
   "outputs": [],
   "source": [
    "Delta = hcat([indicator_vector(a, 8) for a in even]...)\n",
    "SOP = SubdivisionOfPoints(Delta', w)\n",
    "C = secondary_cone(SOP)\n",
    "MCs = maximal_cells(SOP)\n",
    "G = SOP.pm_subdivision.POLYHEDRAL_COMPLEX.DUAL_GRAPH;\n",
    "Ms =  [[even[i] for i in MCs[j]] for j in 1:length(MCs)];"
   ]
  },
  {
   "cell_type": "markdown",
   "metadata": {},
   "source": [
    "Run the following cell to visualize the graph `G`. "
   ]
  },
  {
   "cell_type": "code",
   "execution_count": 5,
   "metadata": {},
   "outputs": [],
   "source": [
    "#pm.visual(G)"
   ]
  },
  {
   "cell_type": "markdown",
   "metadata": {},
   "source": [
    "Next, let's translate the labeling of the maximal cells in `Ms` to the notation in the paper. "
   ]
  },
  {
   "cell_type": "code",
   "execution_count": 6,
   "metadata": {},
   "outputs": [
    {
     "data": {
      "text/plain": [
       "true"
      ]
     },
     "execution_count": 6,
     "metadata": {},
     "output_type": "execute_result"
    }
   ],
   "source": [
    "comb4_8 = collect(powerset(1:8, 4, 4))\n",
    "C1 = [x for x in even if x in setdiff(comb4_8, Boct) || (length(x) < 4)]\n",
    "C2 = [x for x in even if x in setdiff(comb4_8, Boct) || (length(x) > 4)]\n",
    "\n",
    "\n",
    "function A_eta(eta)\n",
    "    return [x for x in even if \n",
    "                (length(x) == 4 && length(setdiff(x,eta))<= 1) || \n",
    "                (length(x) == 2 && is_subset(x,eta))\n",
    "            ]\n",
    "end\n",
    "\n",
    "function D_eta(eta)\n",
    "    return [x for x in even if \n",
    "                (length(x) == 4 && length(setdiff(x,eta))<= 1) || \n",
    "                (length(x) == 6 && is_subset(eta,x))\n",
    "            ]\n",
    "end\n",
    "\n",
    "all([\n",
    "C2 == Ms[1],\n",
    "D_eta([1, 2, 3, 4]) == Ms[2],\n",
    "D_eta([3, 4, 5, 6]) == Ms[3],\n",
    "D_eta([1, 2, 5, 6]) == Ms[4],\n",
    "D_eta([2, 4, 6, 8]) == Ms[5],\n",
    "A_eta([1, 2, 5, 6]) == Ms[6],\n",
    "A_eta([1, 3, 6, 8]) == Ms[7],\n",
    "A_eta([2, 3, 6, 7]) == Ms[8],\n",
    "A_eta([1, 2, 7, 8]) == Ms[9],\n",
    "D_eta([1, 2, 7, 8]) == Ms[10],\n",
    "A_eta([1, 3, 5, 7]) == Ms[11],\n",
    "A_eta([2, 4, 6, 8]) == Ms[12],\n",
    "D_eta([5, 6, 7, 8]) == Ms[13],\n",
    "D_eta([2, 4, 5, 7]) == Ms[14],\n",
    "D_eta([1, 3, 5, 7]) == Ms[15],\n",
    "D_eta([1, 4, 5, 8]) == Ms[16],\n",
    "D_eta([2, 3, 6, 7]) == Ms[17],\n",
    "D_eta([3, 4, 7, 8]) == Ms[18],\n",
    "A_eta([1, 4, 5, 8]) == Ms[19],\n",
    "A_eta([5, 6, 7, 8]) == Ms[20],\n",
    "A_eta([3, 4, 5, 6]) == Ms[21],\n",
    "A_eta([3, 4, 7, 8]) == Ms[22],\n",
    "A_eta([2, 4, 5, 7]) == Ms[23],\n",
    "C2 == Ms[1],\n",
    "A_eta([1, 2, 3, 4]) == Ms[25],\n",
    "D_eta([1, 3, 6, 8]) == Ms[26]\n",
    "        ])"
   ]
  },
  {
   "cell_type": "markdown",
   "metadata": {},
   "source": [
    "**Claim 1.** The morphisms $\\mathbb{S}_{D_{\\eta}} \\to \\mathbb{S}_{D_{\\eta}'} \\times \\mathbb{S}_{D_{\\eta}''}$ are closed immersions.\n",
    "\n",
    "We consider the case $\\eta = 1234$. We twist $D_{\\eta}, D_{\\eta}', D_{\\eta}''$ by $4678$. The following computation verifies that the presentation of the coordinate rings of the corresponding spinor strata are as in the text. "
   ]
  },
  {
   "cell_type": "code",
   "execution_count": 7,
   "metadata": {},
   "outputs": [],
   "source": [
    "D1234 = D_eta([1,2,3,4]); # D_eta\n",
    "Dp1234 = intersect(D1234, A_eta([1,2,3,4])); # D'_eta\n",
    "Dpp1234 = intersect(D1234, C2); # D\"_eta\n",
    "Dppp1234 = intersect(Dp1234, Dpp1234)\n",
    "\n",
    "tD1234 = twist(D1234, [4,6,7,8]);\n",
    "tDp1234 = twist(Dp1234, [4,6,7,8]);\n",
    "tDpp1234 = twist(Dpp1234, [4,6,7,8]);\n",
    "tDppp1234 = twist(Dppp1234, [4,6,7,8]);\n",
    "\n",
    "(ID,SD,RD,xD) = even_Delta_matroid_stratum(tD1234, 8, QQ);\n",
    "(IDp,SDp,RDp,xDp) = even_Delta_matroid_stratum(tDp1234, 8, QQ);\n",
    "(IDpp,SDpp,RDpp,xDpp) = even_Delta_matroid_stratum(tDpp1234, 8, QQ);\n",
    "(IDppp,SDppp,RDppp,xDppp) = even_Delta_matroid_stratum(tDppp1234, 8, QQ);"
   ]
  },
  {
   "cell_type": "code",
   "execution_count": 8,
   "metadata": {},
   "outputs": [
    {
     "name": "stdout",
     "output_type": "stream",
     "text": [
      "Polynomial ring generators\n",
      "gens(RD) = fmpq_mpoly[x_{1, 4}, x_{2, 4}, x_{3, 4}, x_{4, 5}, x_{4, 6}, x_{5, 6}, x_{4, 7}, x_{5, 7}, x_{4, 8}, x_{5, 8}]\n",
      "gens(RDp) = fmpq_mpoly[x_{1, 4}, x_{2, 4}, x_{3, 4}, x_{4, 5}, x_{5, 6}, x_{5, 7}, x_{5, 8}]\n",
      "gens(RDpp) = fmpq_mpoly[x_{1, 4}, x_{2, 4}, x_{3, 4}, x_{4, 6}, x_{5, 6}, x_{4, 7}, x_{5, 7}, x_{4, 8}, x_{5, 8}]\n",
      "gens(RDppp) = fmpq_mpoly[x_{1, 4}, x_{2, 4}, x_{3, 4}, x_{5, 6}, x_{5, 7}, x_{5, 8}]\n",
      "\n",
      "Ideals\n",
      "ID = fmpq_mpoly[0]\n",
      "IDp = fmpq_mpoly[0]\n",
      "IDpp = fmpq_mpoly[0]\n",
      "IDppp = fmpq_mpoly[0]\n",
      "\n",
      "Semigroups\n",
      "SD = fmpq_mpoly[1, x_{5, 8}, x_{5, 7}, x_{5, 6}, x_{4, 8}, x_{4, 7}, x_{4, 6}, -x_{4, 7}*x_{5, 8} + x_{5, 7}*x_{4, 8}, x_{4, 5}, -x_{4, 6}*x_{5, 8} + x_{5, 6}*x_{4, 8}, -x_{4, 6}*x_{5, 7} + x_{5, 6}*x_{4, 7}, x_{3, 4}, x_{3, 4}*x_{5, 8}, x_{3, 4}*x_{5, 7}, x_{3, 4}*x_{5, 6}, x_{2, 4}, x_{2, 4}*x_{5, 8}, x_{2, 4}*x_{5, 7}, x_{2, 4}*x_{5, 6}, x_{1, 4}, x_{1, 4}*x_{5, 8}, x_{1, 4}*x_{5, 7}, x_{1, 4}*x_{5, 6}]\n",
      "SDp = fmpq_mpoly[1, x_{5, 8}, x_{5, 7}, x_{5, 6}, x_{4, 5}, x_{3, 4}, x_{3, 4}*x_{5, 8}, x_{3, 4}*x_{5, 7}, x_{3, 4}*x_{5, 6}, x_{2, 4}, x_{2, 4}*x_{5, 8}, x_{2, 4}*x_{5, 7}, x_{2, 4}*x_{5, 6}, x_{1, 4}, x_{1, 4}*x_{5, 8}, x_{1, 4}*x_{5, 7}, x_{1, 4}*x_{5, 6}]\n",
      "SDpp = fmpq_mpoly[1, x_{5, 8}, x_{5, 7}, x_{5, 6}, x_{4, 8}, x_{4, 7}, x_{4, 6}, -x_{4, 7}*x_{5, 8} + x_{5, 7}*x_{4, 8}, -x_{4, 6}*x_{5, 8} + x_{5, 6}*x_{4, 8}, -x_{4, 6}*x_{5, 7} + x_{5, 6}*x_{4, 7}, x_{3, 4}, x_{3, 4}*x_{5, 8}, x_{3, 4}*x_{5, 7}, x_{3, 4}*x_{5, 6}, x_{2, 4}, x_{2, 4}*x_{5, 8}, x_{2, 4}*x_{5, 7}, x_{2, 4}*x_{5, 6}, x_{1, 4}, x_{1, 4}*x_{5, 8}, x_{1, 4}*x_{5, 7}, x_{1, 4}*x_{5, 6}]\n",
      "SDppp = fmpq_mpoly[1, x_{5, 8}, x_{5, 7}, x_{5, 6}, x_{3, 4}, x_{3, 4}*x_{5, 8}, x_{3, 4}*x_{5, 7}, x_{3, 4}*x_{5, 6}, x_{2, 4}, x_{2, 4}*x_{5, 8}, x_{2, 4}*x_{5, 7}, x_{2, 4}*x_{5, 6}, x_{1, 4}, x_{1, 4}*x_{5, 8}, x_{1, 4}*x_{5, 7}, x_{1, 4}*x_{5, 6}]\n",
      "\n"
     ]
    }
   ],
   "source": [
    "println(\"Polynomial ring generators\")\n",
    "@show gens(RD);\n",
    "@show gens(RDp);\n",
    "@show gens(RDpp); \n",
    "@show gens(RDppp); print(\"\\n\")\n",
    "\n",
    "println(\"Ideals\")\n",
    "@show ID;\n",
    "@show IDp;\n",
    "@show IDpp; \n",
    "@show IDppp; print(\"\\n\")\n",
    "\n",
    "println(\"Semigroups\")\n",
    "@show SD;\n",
    "@show SDp;\n",
    "@show SDpp;\n",
    "@show SDppp; print(\"\\n\")\n"
   ]
  },
  {
   "cell_type": "markdown",
   "metadata": {},
   "source": [
    "**Claim 2.** The morphisms $\\mathbb{S}_{B_{\\eta}} \\to \\mathbb{S}_{B_{\\eta}''}$ are SDC-morphisms.\n",
    "\n",
    "Let's verify that $D_{1234}$ is obtained from $B_{1234}$ by first twisting $B_{1234}$ by $[8]$ then applying the permutation $(15)(26)(37)(48)$. "
   ]
  },
  {
   "cell_type": "code",
   "execution_count": 9,
   "metadata": {},
   "outputs": [
    {
     "data": {
      "text/plain": [
       "true"
      ]
     },
     "execution_count": 9,
     "metadata": {},
     "output_type": "execute_result"
    }
   ],
   "source": [
    "B1234 = A_eta([1,2,3,4]);\n",
    "tB1234 = twist(B1234, [1,2,3,4,5,6,7,8])\n",
    "\n",
    "p = @perm (1,5)(2,6)(3,7)(4,8)\n",
    "ptB1234 = sort!([sort!(p.(x)) for x in tB1234]) \n",
    "\n",
    "sort(ptB1234) == sort(D1234)"
   ]
  },
  {
   "cell_type": "markdown",
   "metadata": {},
   "source": [
    "**Claim 3.** \tThe fiber product $\\mathbb{S}_{C_1}\\times_{\\mathbb{S}_{C_{12}}} \\mathbb{S}_{C_2}$ is smooth and irreducible of dimension $17$. \n"
   ]
  },
  {
   "cell_type": "code",
   "execution_count": 10,
   "metadata": {},
   "outputs": [],
   "source": [
    "tC1 = twist(C1, [4,6,7,8])\n",
    "tC2 = twist(C2, [4,6,7,8])\n",
    "tC12 = twist(intersect(C1,C2), [4,6,7,8])\n",
    "\n",
    "(IC1,SC1,RC1,xC1) = even_Delta_matroid_stratum(tC1, 8, QQ);\n",
    "(IC2,SC2,RC2,xC2) = even_Delta_matroid_stratum(tC2, 8, QQ);\n",
    "(IC12,SC12,RC12,xC12) = even_Delta_matroid_stratum(tC12, 8, QQ);"
   ]
  },
  {
   "cell_type": "code",
   "execution_count": 11,
   "metadata": {},
   "outputs": [
    {
     "name": "stdout",
     "output_type": "stream",
     "text": [
      "Polynomial ring generators\n",
      "gens(RC1) = fmpq_mpoly[x_{1, 2}, x_{1, 3}, x_{2, 3}, x_{1, 4}, x_{2, 4}, x_{3, 4}, x_{1, 5}, x_{2, 5}, x_{3, 5}, x_{1, 6}, x_{2, 6}, x_{5, 6}, x_{1, 7}, x_{3, 7}, x_{5, 7}, x_{1, 8}, x_{2, 8}, x_{3, 8}, x_{5, 8}]\n",
      "gens(RC2) = fmpq_mpoly[x_{1, 4}, x_{2, 4}, x_{3, 4}, x_{1, 6}, x_{2, 6}, x_{4, 6}, x_{5, 6}, x_{1, 7}, x_{3, 7}, x_{4, 7}, x_{5, 7}, x_{6, 7}, x_{1, 8}, x_{2, 8}, x_{3, 8}, x_{4, 8}, x_{5, 8}, x_{6, 8}, x_{7, 8}]\n",
      "gens(RC12) = fmpq_mpoly[x_{1, 4}, x_{2, 4}, x_{3, 4}, x_{1, 6}, x_{2, 6}, x_{5, 6}, x_{1, 7}, x_{3, 7}, x_{5, 7}, x_{1, 8}, x_{2, 8}, x_{3, 8}, x_{5, 8}]\n",
      "\n",
      "Ideals\n",
      "IC1 = fmpq_mpoly[0, -x_{1, 4}*x_{5, 6}*x_{3, 8} - x_{3, 4}*x_{1, 6}*x_{5, 8} + x_{3, 4}*x_{5, 6}*x_{1, 8}, -x_{1, 4}*x_{5, 7}*x_{2, 8} - x_{2, 4}*x_{1, 7}*x_{5, 8} + x_{2, 4}*x_{5, 7}*x_{1, 8}, x_{1, 6}*x_{3, 7}*x_{2, 8} + x_{2, 6}*x_{1, 7}*x_{3, 8} - x_{2, 6}*x_{3, 7}*x_{1, 8}, -x_{3, 7}*x_{5, 8} + x_{5, 7}*x_{3, 8}, -x_{2, 6}*x_{5, 8} + x_{5, 6}*x_{2, 8}, -x_{2, 4}*x_{3, 8} + x_{3, 4}*x_{2, 8}, -x_{1, 6}*x_{5, 7} + x_{5, 6}*x_{1, 7}, -x_{1, 4}*x_{3, 7} + x_{3, 4}*x_{1, 7}, -x_{1, 4}*x_{2, 6} + x_{2, 4}*x_{1, 6}]\n",
      "IC2 = fmpq_mpoly[-x_{1, 4}*x_{5, 6}*x_{3, 8} - x_{3, 4}*x_{1, 6}*x_{5, 8} + x_{3, 4}*x_{5, 6}*x_{1, 8}, -x_{1, 4}*x_{5, 7}*x_{2, 8} - x_{2, 4}*x_{1, 7}*x_{5, 8} + x_{2, 4}*x_{5, 7}*x_{1, 8}, x_{1, 6}*x_{3, 7}*x_{2, 8} + x_{2, 6}*x_{1, 7}*x_{3, 8} - x_{2, 6}*x_{3, 7}*x_{1, 8}, 0, -x_{3, 7}*x_{5, 8} + x_{5, 7}*x_{3, 8}, -x_{2, 6}*x_{5, 8} + x_{5, 6}*x_{2, 8}, -x_{2, 4}*x_{3, 8} + x_{3, 4}*x_{2, 8}, -x_{1, 6}*x_{5, 7} + x_{5, 6}*x_{1, 7}, -x_{1, 4}*x_{3, 7} + x_{3, 4}*x_{1, 7}, -x_{1, 4}*x_{2, 6} + x_{2, 4}*x_{1, 6}]\n",
      "IC12 = fmpq_mpoly[0, -x_{1, 4}*x_{5, 6}*x_{3, 8} - x_{3, 4}*x_{1, 6}*x_{5, 8} + x_{3, 4}*x_{5, 6}*x_{1, 8}, -x_{1, 4}*x_{5, 7}*x_{2, 8} - x_{2, 4}*x_{1, 7}*x_{5, 8} + x_{2, 4}*x_{5, 7}*x_{1, 8}, x_{1, 6}*x_{3, 7}*x_{2, 8} + x_{2, 6}*x_{1, 7}*x_{3, 8} - x_{2, 6}*x_{3, 7}*x_{1, 8}, -x_{3, 7}*x_{5, 8} + x_{5, 7}*x_{3, 8}, -x_{2, 6}*x_{5, 8} + x_{5, 6}*x_{2, 8}, -x_{2, 4}*x_{3, 8} + x_{3, 4}*x_{2, 8}, -x_{1, 6}*x_{5, 7} + x_{5, 6}*x_{1, 7}, -x_{1, 4}*x_{3, 7} + x_{3, 4}*x_{1, 7}, -x_{1, 4}*x_{2, 6} + x_{2, 4}*x_{1, 6}]\n",
      "\n"
     ]
    }
   ],
   "source": [
    "println(\"Polynomial ring generators\")\n",
    "@show gens(RC1);\n",
    "@show gens(RC2);\n",
    "@show gens(RC12); print(\"\\n\")\n",
    "\n",
    "println(\"Ideals\")\n",
    "@show IC1;\n",
    "@show IC2;\n",
    "@show IC12; print(\"\\n\")"
   ]
  },
  {
   "cell_type": "markdown",
   "metadata": {},
   "source": [
    "Now we perform the substitution outlined in the paper. "
   ]
  },
  {
   "cell_type": "code",
   "execution_count": 12,
   "metadata": {},
   "outputs": [],
   "source": [
    "Rnew, (x24,x56,x17,x57,x18,x28,x38,x58) = \n",
    "    PolynomialRing(QQ, [\"x24\", \"x56\", \"x17\", \"x57\", \"x18\", \"x28\", \"x38\", \"x58\"]);\n",
    "FRnew = FractionField(Rnew);\n",
    "c = [x18*x24//(2*x28), x24, x24*x38//x28, x18*x56//(2*x58), x56*x28//x58, \n",
    "     x56, x18*x57//(2*x58), x57*x38//x58, x57,x18,x28,x38,x58];\n",
    "phi = hom(RC12, FractionField(Rnew), a->a, c);"
   ]
  },
  {
   "cell_type": "code",
   "execution_count": 13,
   "metadata": {},
   "outputs": [
    {
     "data": {
      "text/plain": [
       "true"
      ]
     },
     "execution_count": 13,
     "metadata": {},
     "output_type": "execute_result"
    }
   ],
   "source": [
    "all([f == FRnew(0) for f in phi.(IC12)])"
   ]
  }
 ],
 "metadata": {
  "kernelspec": {
   "display_name": "Julia 1.7.1",
   "language": "julia",
   "name": "julia-1.7"
  },
  "language_info": {
   "file_extension": ".jl",
   "mimetype": "application/julia",
   "name": "julia",
   "version": "1.7.1"
  }
 },
 "nbformat": 4,
 "nbformat_minor": 4
}
