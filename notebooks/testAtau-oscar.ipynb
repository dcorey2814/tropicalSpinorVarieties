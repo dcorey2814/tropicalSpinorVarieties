{
 "cells": [
  {
   "cell_type": "markdown",
   "metadata": {},
   "source": [
    "# Proof of Lemma 7.8.\n",
    "To prove Lemma 7.8, we apply Lemma 7.2 to each nonmaximal cone $\\tau$; of $\\Sigma_5$. The collections of cones $A_{\\tau}$ are listed in Table 7.1. To verify Equation 7.1 for these cones, see the sage file ```testAtau.sage``` (this works with Oscar 0.11.3). \n",
    "\n",
    "Note that this notebook is `1`-indexed, whereas the text is `0`-indexed. "
   ]
  },
  {
   "cell_type": "code",
   "execution_count": 1,
   "metadata": {},
   "outputs": [
    {
     "name": "stdout",
     "output_type": "stream",
     "text": [
      " -----    -----    -----      -      -----   \n",
      "|     |  |     |  |     |    | |    |     |  \n",
      "|     |  |        |         |   |   |     |  \n",
      "|     |   -----   |        |     |  |-----   \n",
      "|     |        |  |        |-----|  |   |    \n",
      "|     |  |     |  |     |  |     |  |    |   \n",
      " -----    -----    -----   -     -  -     -  \n",
      "\n",
      "...combining (and extending) ANTIC, GAP, Polymake and Singular\n",
      "Version\u001b[32m 0.12.0-DEV \u001b[39m... \n",
      " ... which comes with absolutely no warranty whatsoever\n",
      "Type: '?Oscar' for more information\n",
      "(c) 2019-2023 by The OSCAR Development Team\n"
     ]
    }
   ],
   "source": [
    "using Oscar\n",
    "using Combinatorics"
   ]
  },
  {
   "cell_type": "markdown",
   "metadata": {},
   "source": [
    "Extract from ```raysS5.dat``` the rays as they appear in the paper and extract from ```linealityS5.dat``` the lineality space."
   ]
  },
  {
   "cell_type": "code",
   "execution_count": 3,
   "metadata": {},
   "outputs": [],
   "source": [
    "function string_2_Int64_Vector(s)\n",
    "    return map(i -> parse(Int64, i), split(s))\n",
    "end\n",
    "\n",
    "function file_2_Matrix(fileName) \n",
    "    vs = map(s -> string_2_Int64_Vector(s), readlines(fileName))\n",
    "    return [vs[i][j] for i in 1:length(vs), j in 1:length(vs[1])]\n",
    "end\n",
    "\n",
    "linealityS5 = file_2_Matrix(\"linealityS5.dat\");\n",
    "raysS5 = file_2_Matrix(\"raysS5.dat\");"
   ]
  },
  {
   "cell_type": "markdown",
   "metadata": {},
   "source": [
    "The list ```E5``` records the elements of $E(5)$ given in the following order:\n",
    "\n",
    "\\begin{equation}\n",
    "1,\\, 2,\\, 3,\\, 4,\\, 5,\\, 123,\\, 124,\\, 134,\\, 234,\\, 125,\\, 135,\\, 235,\\, 145,\\, 245,\\, 345,\\, 12345.\n",
    "\\end{equation}"
   ]
  },
  {
   "cell_type": "code",
   "execution_count": 4,
   "metadata": {},
   "outputs": [],
   "source": [
    "E5 = [[1], [2], [3], [4], [5], \n",
    "[1,2,3], [1,2,4], [1,3,4], [2,3,4], [1,2,5], [1,3,5], [2,3,5],\n",
    "[1,4,5], [2,4,5], [3,4,5], [1,2,3,4,5]];"
   ]
  },
  {
   "cell_type": "markdown",
   "metadata": {},
   "source": [
    "Here are some functions necessary for this verification. Brief descriptions are also given."
   ]
  },
  {
   "cell_type": "code",
   "execution_count": 5,
   "metadata": {},
   "outputs": [
    {
     "data": {
      "text/plain": [
       "permute_twist_rays (generic function with 1 method)"
      ]
     },
     "execution_count": 5,
     "metadata": {},
     "output_type": "execute_result"
    }
   ],
   "source": [
    "function symn_2_symEn(sigma, En)\n",
    "    sigma_En = [sort!(on_tuples(e, sigma)) for e in En]\n",
    "    return perm([findall(x->x==e, En)[1] for e in sigma_En])\n",
    "end\n",
    "# given a permutation of S5, returns a permutation of SE5 = S16.  \n",
    "\n",
    "function twist_by_mu(mu, En)\n",
    "    length(mu)%2 == 0 || error(\"length(mu) not even\")\n",
    "    twist_sets = [sort!(symdiff(mu,e)) for e in En]; \n",
    "    return perm([findall(x->x==e, En)[1] for e in twist_sets])\n",
    "end\n",
    "# given an even subset mu of [5] of S5, returns a permutation of SE5 = S16 induced by twisting the odd subsets of [5].  \n",
    "\n",
    "function sigma_on_vector(v, sigma, phi)\n",
    "    return permuted(v, phi(sigma))\n",
    "end\n",
    "# given a permutation of S5 and vector in R^ES5 = R^16, returns the vector sigma.v by permuting the coordinates.\n",
    "\n",
    "function twistmu_on_vector(v, mu, En)\n",
    "    sigma = twist_by_mu(mu, En)\n",
    "    return permuted(v, sigma)\n",
    "end\n",
    "\n",
    "function permute_twist_rays(ray_indices, rs, sigma, mu, En)\n",
    "    mu_E5 = twist_by_mu(mu, En)\n",
    "    sigma_E5 = symn_2_symEn(sigma, En)\n",
    "    p = mu_E5 * sigma_E5 ; \n",
    "    prs = rs[ray_indices, permuted([i for i in 1:length(En)], p)]\n",
    "    return prs\n",
    "end\n",
    "# given cone as a tuple of ray indices taui, permutation sigma of [5], and even subset mu, returns the cone obtained by twisting by mu, then permuting by sigma. "
   ]
  },
  {
   "cell_type": "markdown",
   "metadata": {},
   "source": [
    "```Atau1``` is a dictionary of the data from Table 7.1 in the paper."
   ]
  },
  {
   "cell_type": "code",
   "execution_count": 6,
   "metadata": {},
   "outputs": [],
   "source": [
    "Atau1 = Dict{Vector, Vector}()\n",
    "Atau1[[]] = [[[1, 2, 3, 4, 5], [3, 4], [5, 8, 9, 10, 27]], [[1, 4, 3, 2, 5], [1, 4], [5, 8, 9, 10, 27]]];\n",
    "Atau1[[27]] = [[[1, 3, 2, 4, 5], [], [5, 8, 9, 10, 27]], [[1, 2, 3, 5, 4], [], [5, 8, 9, 10, 27]], [[1, 3, 2, 5, 4], [], [5, 8, 9, 10, 27]]];\n",
    "Atau1[[5]] = [[[1, 5, 2, 4, 3], [2, 5], [5, 8, 9, 10, 27]], [[3, 2, 5, 4, 1], [1, 4], [5, 8, 9, 10, 27]]];\n",
    "Atau1[[4, 5]] = [[[3, 1, 2, 4, 5], [4, 5], [4, 5, 6, 8, 10]], [[3, 2, 1, 5, 4], [], [4, 5, 6, 8, 10]]];\n",
    "Atau1[[5, 6]] = [[[4, 5, 1, 3, 2], [3, 4], [5, 8, 9, 10, 27]], [[3, 4, 1, 2, 5], [], [5, 8, 9, 10, 27]]];\n",
    "Atau1[[5, 27]] = [[[1, 2, 3, 4, 5], [], [5, 8, 9, 10, 27]], [[2, 3, 1, 4, 5], [], [5, 8, 9, 10, 27]], [[1, 3, 2, 4, 5], [], [5, 8, 9, 10, 27]]];\n",
    "Atau1[[5, 6, 10]] = [[[1, 2, 3, 4, 5], [], [4, 5, 6, 8, 10]], [[1, 2, 5, 3, 4], [3, 4], [4, 5, 6, 7, 26]]];\n",
    "Atau1[[5, 10, 27]] = [[[1, 2, 3, 4, 5], [], [5, 8, 9, 10, 27]], [[4, 5, 2, 1, 3], [1, 3], [4, 5, 6, 7, 26]], [[4, 5, 2, 1, 3], [1, 4], [4, 5, 6, 7, 26]]];\n",
    "Atau1[[5, 7, 27]] = [[[2, 3, 1, 4, 5], [], [5, 8, 9, 10, 27]], [[1, 3, 2, 4, 5], [], [5, 8, 9, 10, 27]]];\n",
    "Atau1[[4, 5, 6]] = [[[1, 2, 3, 4, 5], [], [4, 5, 6, 8, 10]], [[1, 2, 3, 4, 5], [], [4, 5, 6, 7, 26]]];\n",
    "Atau1[[4, 5, 27]] = [[[5, 4, 1, 3, 2], [1, 4], [4, 5, 6, 7, 26]], [[4, 5, 1, 3, 2], [1, 4], [4, 5, 6, 7, 26]]];\n",
    "Atau1[[5, 8, 9, 10]] = [[[1, 2, 3, 4, 5], [], [5, 8, 9, 10, 27]], [[1, 2, 4, 3, 5], [], [5, 8, 9, 10, 27]]];\n",
    "Atau1[[4, 5, 6, 26]] = [[[1, 2, 3, 4, 5], [], [4, 5, 6, 7, 26]], [[1, 2, 3, 5, 4], [], [4, 5, 6, 7, 26]]];\n",
    "Atau1[[4, 5, 6, 7]] = [[[1, 3, 2, 4, 5], [], [4, 5, 6, 8, 10]], [[2, 1, 3, 5, 4], [], [4, 5, 6, 8, 10]]];\n",
    "Atau1[[4, 5, 7, 27]] = [[[4, 5, 3, 1, 2], [1, 4], [4, 5, 6, 7, 26]], [[4, 5, 3, 2, 1], [1, 4], [4, 5, 6, 7, 26]]];"
   ]
  },
  {
   "cell_type": "markdown",
   "metadata": {},
   "source": [
    "```Atau2``` is a similar dictionary, just that the permutation and twist are carried out by hand. "
   ]
  },
  {
   "cell_type": "code",
   "execution_count": 7,
   "metadata": {},
   "outputs": [],
   "source": [
    "Atau2 = Dict{Vector, Vector}();\n",
    "Atau2[[]] = [[1, 2, 15, 16, 17], [3, 8, 10, 14, 19]];\n",
    "Atau2[[27]] = [[5, 7, 9, 11, 27], [4, 7, 11, 12, 27], [4, 8, 10, 12, 27]];\n",
    "Atau2[[5]] = [[1, 5, 9, 16, 21], [5, 7, 8, 12, 23]];\n",
    "Atau2[[4, 5]] = [[4, 5, 8, 12, 16], [4, 5, 6, 9, 11]];\n",
    "Atau2[[5, 6]] = [[4, 5, 6, 16, 24], [5, 6, 7, 15, 29]];\n",
    "Atau2[[5, 27]] = [[5, 8, 9, 10, 27], [5, 7, 8, 12, 27], [5, 7, 9, 11, 27]];\n",
    "Atau2[[5, 6, 10]] = [[4, 5, 6, 8, 10], [5, 6, 10, 15, 26]];\n",
    "Atau2[[5, 10, 27]] = [[5, 8, 9, 10, 27], [5, 7, 9, 10, 27], [4, 5, 8, 10, 27]];\n",
    "Atau2[[5, 7, 27]] = [[5, 7, 8, 12, 27], [5, 7, 9, 11, 27]];\n",
    "Atau2[[4, 5, 6]] = [[4, 5, 6, 8, 10], [4, 5, 6, 7, 26]];\n",
    "Atau2[[4, 5, 27]] = [[4, 5, 8, 12, 27], [4, 5, 9, 11, 27]];\n",
    "Atau2[[5, 8, 9, 10]] = [[5, 8, 9, 10, 27], [5, 8, 9, 10, 28]];\n",
    "Atau2[[4, 5, 6, 26]] = [[4, 5, 6, 7, 26], [4, 5, 6, 10, 26]];\n",
    "Atau2[[4, 5, 6, 7]] = [[4, 5, 6, 7, 11], [4, 5, 6, 7, 12]];\n",
    "Atau2[[4, 5, 7, 27]] = [[4, 5, 7, 11, 27], [4, 5, 7, 12, 27]];"
   ]
  },
  {
   "cell_type": "markdown",
   "metadata": {},
   "source": [
    "We verify that the dictionaries ```Atau``` and ```Atau2``` give the same cones. "
   ]
  },
  {
   "cell_type": "code",
   "execution_count": 8,
   "metadata": {},
   "outputs": [
    {
     "name": "stdout",
     "output_type": "stream",
     "text": [
      "all(tests) = true\n"
     ]
    }
   ],
   "source": [
    "tests = []\n",
    "for taui in keys(Atau1)\n",
    "    for j in 1:length(Atau1[taui])\n",
    "        c1 = Atau1[taui][j]\n",
    "        c2 = Atau2[taui][j]\n",
    "        ptr = permute_twist_rays(c1[3], raysS5, perm(Vector{Int64}(c1[1])), c1[2], E5) \n",
    "        C1 = Cone(ptr, linealityS5)\n",
    "        C2 = Cone(raysS5[c2, :], linealityS5)\n",
    "        push!(tests, C1==C2)\n",
    "    end\n",
    "end\n",
    "\n",
    "@show all(tests);"
   ]
  },
  {
   "cell_type": "markdown",
   "metadata": {},
   "source": [
    "Here is a function to see if Lemma 7.2 is satisfied for $\\tau$ and $A_{\\tau}$."
   ]
  },
  {
   "cell_type": "code",
   "execution_count": 9,
   "metadata": {},
   "outputs": [
    {
     "data": {
      "text/plain": [
       "testAtau (generic function with 1 method)"
      ]
     },
     "execution_count": 9,
     "metadata": {},
     "output_type": "execute_result"
    }
   ],
   "source": [
    "function rays_lineality_matrix(rays, lineality, cone)\n",
    "    return vcat(rays[cone, :], lineality)\n",
    "end\n",
    "#Matrix whose rows are the rays and lineality of the cone, where the cone is given by a list of ray indices.\n",
    "\n",
    "function testAtau(tau, AtauV)\n",
    "    matricesR = [rays_lineality_matrix(raysS5, linealityS5, s) for s in AtauV]\n",
    "    matricesS = [kernel(matrix(QQ, MR))[2] for MR in matricesR]\n",
    "    Stau = hcat(matricesS...)\n",
    "    tauM = rays_lineality_matrix(raysS5, linealityS5, tau)\n",
    "    return 16-rank(tauM) == rank(Stau)\n",
    "end"
   ]
  },
  {
   "cell_type": "markdown",
   "metadata": {},
   "source": [
    "Finally, we verify Lemma 7.8. "
   ]
  },
  {
   "cell_type": "code",
   "execution_count": 10,
   "metadata": {},
   "outputs": [
    {
     "data": {
      "text/plain": [
       "true"
      ]
     },
     "execution_count": 10,
     "metadata": {},
     "output_type": "execute_result"
    }
   ],
   "source": [
    "all([testAtau(x, Atau2[x]) for x in keys(Atau2)])"
   ]
  }
 ],
 "metadata": {
  "kernelspec": {
   "display_name": "Julia 1.8.5",
   "language": "julia",
   "name": "julia-1.8"
  },
  "language_info": {
   "file_extension": ".jl",
   "mimetype": "application/julia",
   "name": "julia",
   "version": "1.8.5"
  }
 },
 "nbformat": 4,
 "nbformat_minor": 4
}
