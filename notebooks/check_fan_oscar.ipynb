{
 "cells": [
  {
   "cell_type": "markdown",
   "metadata": {},
   "source": [
    "# From ```gfan``` computation to $\\operatorname*{T}\\mathbb{S}_5^{\\circ}$. \n",
    "The rays of $\\operatorname*{T}\\mathbb{S}_5^{\\circ}$ computed by ```gfan```, as they appear in ```TS5.txt``` are complicated expressions, so in the paper we use different primitive generators modulo the lineality space. In this ```Oscar``` notebook, we verify that these are the same. This works with Oscar 0.11.3.\n",
    "\n",
    "**Note** this notebook is `1`-indexed, whereas the paper is `0`-indexed. \n",
    "\n",
    "Recall that $\\operatorname*{T}\\mathbb{S}_5^{\\circ}$ is a fan in $\\mathbb{R}^{E(5)}$ where $E(n)$ is the set of subsets $\\lambda$ of $[n]$ such that $n-|\\lambda|$ is even. The standard unit coordinate vectors of $\\mathbb{R}^{E(5)}$ are labeled by $f_{\\lambda}$  for $\\lambda \\in E(5)$, and given the following ordering.\n",
    "\n",
    "\\begin{equation}\n",
    "f_1,\\, f_2,\\, f_3,\\, f_4,\\, f_5,\\, f_{123},\\, f_{124},\\, f_{134},\\, f_{234},\\, f_{125},\\, f_{135},\\, f_{235},\\, f_{145},\\, f_{245},\\, f_{345},\\, f_{12345}.\n",
    "\\end{equation}"
   ]
  },
  {
   "cell_type": "code",
   "execution_count": 1,
   "metadata": {},
   "outputs": [
    {
     "name": "stdout",
     "output_type": "stream",
     "text": [
      " -----    -----    -----      -      -----   \n",
      "|     |  |     |  |     |    | |    |     |  \n",
      "|     |  |        |         |   |   |     |  \n",
      "|     |   -----   |        |     |  |-----   \n",
      "|     |        |  |        |-----|  |   |    \n",
      "|     |  |     |  |     |  |     |  |    |   \n",
      " -----    -----    -----   -     -  -     -  \n",
      "\n",
      "...combining (and extending) ANTIC, GAP, Polymake and Singular\n",
      "Version\u001b[32m 0.12.0-DEV \u001b[39m... \n",
      " ... which comes with absolutely no warranty whatsoever\n",
      "Type: '?Oscar' for more information\n",
      "(c) 2019-2023 by The OSCAR Development Team\n"
     ]
    }
   ],
   "source": [
    "using Oscar\n",
    "cd(\"..\")"
   ]
  },
  {
   "cell_type": "markdown",
   "metadata": {},
   "source": [
    "We extract from `linealityS5.dat` the lineality space, from `raysS5gfan.dat` the rays from the raw `gfan` output, and  from `raysS5.dat` the rays as they appear in the paper."
   ]
  },
  {
   "cell_type": "code",
   "execution_count": 2,
   "metadata": {},
   "outputs": [
    {
     "data": {
      "text/plain": [
       "file_2_Matrix (generic function with 1 method)"
      ]
     },
     "execution_count": 2,
     "metadata": {},
     "output_type": "execute_result"
    }
   ],
   "source": [
    "function string_2_Int64_Vector(s)\n",
    "    return map(i -> parse(Int64, i), split(s))\n",
    "end\n",
    "\n",
    "function file_2_Matrix(fileName) \n",
    "    vs = map(s -> string_2_Int64_Vector(s), readlines(fileName))\n",
    "    return [vs[i][j] for i in 1:length(vs), j in 1:length(vs[1])]\n",
    "end"
   ]
  },
  {
   "cell_type": "code",
   "execution_count": 3,
   "metadata": {},
   "outputs": [],
   "source": [
    "currentDir = pwd()\n",
    "linealityS5 = file_2_Matrix(joinpath(currentDir, \"data/linealityS5.dat\"));\n",
    "raysS5gfan = file_2_Matrix(joinpath(currentDir, \"data/raysS5gfan.dat\"));\n",
    "raysS5 = file_2_Matrix(joinpath(currentDir,\"data/raysS5.dat\"));"
   ]
  },
  {
   "cell_type": "markdown",
   "metadata": {},
   "source": [
    "There was a reordering of the rays from ```gfan``` to the paper, here is a dictionary recording this. "
   ]
  },
  {
   "cell_type": "code",
   "execution_count": 4,
   "metadata": {},
   "outputs": [],
   "source": [
    "oldToNewRayIndex = Dict{Int64,Int64}([\n",
    "1=>17, 2=>18, 3=>21, 4=>36, 5=>19, 6=>22, 7=>35, 8=>24,\n",
    "9=>33, 10=>30, 11=>20, 12=>23, 13=>34, 14=>25, 15=>32, 16=>29,\n",
    "17=>26, 18=>31, 19=>28, 20=>27, 21=>1, 22=>16, 23=>15, 24=>14,\n",
    "25=>12, 26=>9, 27=>2, 28=>13, 29=>11, 30=>8, 31=>3, 32=>10,\n",
    "33=>7, 34=>4, 35=>6, 36=>5 ]);"
   ]
  },
  {
   "cell_type": "markdown",
   "metadata": {},
   "source": [
    "Here are two functions which we use to check that the rays recorded in the paper are the same as the rays from ```gfan```. Because $\\operatorname*{T}\\mathbb{S}_5^{\\circ}$ has a lineality space $L$, the rays $r$ and $r'$ determines the same cones in $\\operatorname*{T}\\mathbb{S}_5^{\\circ}$ if and only if \n",
    "\\begin{equation}\n",
    "\\mathbb{R}_{\\geq 0} r + L =\\mathbb{R}_{\\geq 0} r' +  L.\n",
    "\\end{equation}"
   ]
  },
  {
   "cell_type": "code",
   "execution_count": 5,
   "metadata": {},
   "outputs": [
    {
     "data": {
      "text/plain": [
       "check_rays (generic function with 1 method)"
      ]
     },
     "execution_count": 5,
     "metadata": {},
     "output_type": "execute_result"
    }
   ],
   "source": [
    "function index_2_cone(c, rs, lin)\n",
    "    return HS = positive_hull(rs[c,:], lin)\n",
    "end\n",
    "\n",
    "function check_rays(i)\n",
    "    oldRay = i\n",
    "    newRay =  oldToNewRayIndex[oldRay]\n",
    "    C1 = index_2_cone([oldRay], raysS5gfan, linealityS5 )\n",
    "    C2 = index_2_cone([newRay], -raysS5, linealityS5 )\n",
    "    return C1 == C2\n",
    "end\n",
    "\n"
   ]
  },
  {
   "cell_type": "markdown",
   "metadata": {},
   "source": [
    "Finally, we perform this check on all 36 rays. "
   ]
  },
  {
   "cell_type": "code",
   "execution_count": 6,
   "metadata": {},
   "outputs": [
    {
     "name": "stdout",
     "output_type": "stream",
     "text": [
      "all(check_rays.(1:36)) = true\n"
     ]
    }
   ],
   "source": [
    "@show all(check_rays.(1:36));"
   ]
  }
 ],
 "metadata": {
  "kernelspec": {
   "display_name": "Julia 1.8.5",
   "language": "julia",
   "name": "julia-1.8"
  },
  "language_info": {
   "file_extension": ".jl",
   "mimetype": "application/julia",
   "name": "julia",
   "version": "1.8.5"
  }
 },
 "nbformat": 4,
 "nbformat_minor": 4
}
