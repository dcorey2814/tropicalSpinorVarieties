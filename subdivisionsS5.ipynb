{
 "cells": [
  {
   "cell_type": "markdown",
   "metadata": {},
   "source": [
    "# Delta-matroid subdivisions of $\\Delta(5)$\n",
    "\n",
    "In this ```polymake``` notebook, we determine all $\\Delta$-matroid subdivisions of the $\\Delta$-hypersimplex $\\Delta(5)$. This was done in [*Isotropical linear spaces and valuated Delta-matroids*](https://www.sciencedirect.com/science/article/pii/S0097316511001221?via%3Dihub) by Rinc&oacute;n, but we redo this computation here in a way that is consistent with our paper. "
   ]
  },
  {
   "cell_type": "code",
   "execution_count": 1,
   "metadata": {},
   "outputs": [],
   "source": [
    "use application 'polytope';"
   ]
  },
  {
   "cell_type": "markdown",
   "metadata": {},
   "source": [
    "The fan $\\operatorname*{Dr}(5)$ lives in $\\mathbb{R}^{E(5)}$ where $E(n)$ is the set of subsets $\\lambda$ of $[n]$ such that $n-|\\lambda|$ is even. The standard unit coordinate vectors of $\\mathbb{R}^{E(5)}$ are labeled by $f_{\\lambda}$  for $\\lambda \\in E(5)$, and given the following ordering.\n",
    "\n",
    "\\begin{equation}\n",
    "f_0,\\, f_1,\\, f_2,\\, f_3,\\, f_4,\\, f_{012},\\, f_{013},\\, f_{023},\\, f_{123},\\, f_{014},\\, f_{024},\\, f_{124},\\, f_{034},\\, f_{134},\\, f_{234},\\, f_{01234}.\n",
    "\\end{equation}"
   ]
  },
  {
   "cell_type": "code",
   "execution_count": 2,
   "metadata": {},
   "outputs": [],
   "source": [
    "$f0 = new Vector<Rational>([1, 0, 0, 0, 0, 0, 0, 0, 0, 0, 0, 0, 0, 0, 0, 0]);\n",
    "$f1 = new Vector<Rational>([0, 1, 0, 0, 0, 0, 0, 0, 0, 0, 0, 0, 0, 0, 0, 0]);\n",
    "$f2 = new Vector<Rational>([0, 0, 1, 0, 0, 0, 0, 0, 0, 0, 0, 0, 0, 0, 0, 0]);\n",
    "$f3 = new Vector<Rational>([0, 0, 0, 1, 0, 0, 0, 0, 0, 0, 0, 0, 0, 0, 0, 0]);\n",
    "$f4 = new Vector<Rational>([0, 0, 0, 0, 1, 0, 0, 0, 0, 0, 0, 0, 0, 0, 0, 0]);\n",
    "$f012 = new Vector<Rational>([0, 0, 0, 0, 0, 1, 0, 0, 0, 0, 0, 0, 0, 0, 0, 0]);\n",
    "$f013 = new Vector<Rational>([0, 0, 0, 0, 0, 0, 1, 0, 0, 0, 0, 0, 0, 0, 0, 0]);\n",
    "$f023 = new Vector<Rational>([0, 0, 0, 0, 0, 0, 0, 1, 0, 0, 0, 0, 0, 0, 0, 0]);\n",
    "$f123 = new Vector<Rational>([0, 0, 0, 0, 0, 0, 0, 0, 1, 0, 0, 0, 0, 0, 0, 0]);\n",
    "$f014 = new Vector<Rational>([0, 0, 0, 0, 0, 0, 0, 0, 0, 1, 0, 0, 0, 0, 0, 0]);\n",
    "$f024 = new Vector<Rational>([0, 0, 0, 0, 0, 0, 0, 0, 0, 0, 1, 0, 0, 0, 0, 0]);\n",
    "$f124 = new Vector<Rational>([0, 0, 0, 0, 0, 0, 0, 0, 0, 0, 0, 1, 0, 0, 0, 0]);\n",
    "$f034 = new Vector<Rational>([0, 0, 0, 0, 0, 0, 0, 0, 0, 0, 0, 0, 1, 0, 0, 0]);\n",
    "$f134 = new Vector<Rational>([0, 0, 0, 0, 0, 0, 0, 0, 0, 0, 0, 0, 0, 1, 0, 0]);\n",
    "$f234 = new Vector<Rational>([0, 0, 0, 0, 0, 0, 0, 0, 0, 0, 0, 0, 0, 0, 1, 0]);\n",
    "$f01234 = new Vector<Rational>([0, 0, 0, 0, 0, 0, 0, 0, 0, 0, 0, 0, 0, 0, 0, 1]);"
   ]
  },
  {
   "cell_type": "markdown",
   "metadata": {},
   "source": [
    "Next, we use the fact that $\\operatorname*{T}\\mathbb{S}_5^{\\circ}$, equipped with its Gr&ouml;bner fan structure, is equal to the $\\operatorname{Dr}(5)$, equipped with its secondary fan structure. The fan $\\operatorname*{T}\\mathbb{S}_5^{\\circ}$ was computed using ```gfan```. The raw data is recorded in ```TS5.txt```, which was modified in the paper to be more readable. \n",
    "\n",
    "Recall that the group $G_5 \\cong \\mathfrak{S}_5 \\ltimes (\\mathfrak{S}_2)^4$ acts on the fan $\\operatorname*{Dr}(5)$. Up to this symmetry, there are 19 cones, listed in Table 7.1 in the paper. Here are relative interior representatives of these cones."
   ]
  },
  {
   "cell_type": "code",
   "execution_count": 3,
   "metadata": {},
   "outputs": [],
   "source": [
    "$w0 = - $f0 - $f1 - $f2 - $f012 ;\n",
    "$w1 = $f4;\n",
    "$w2 = $f3 + $f4;\n",
    "$w3 = $f4 + $f012;\n",
    "$w4 = $f4 - $f0 - $f1 - $f2 - $f012 ;\n",
    "$w5 = $f4 + $f012 + $f014;\n",
    "$w6 = $f4 + $f014 - $f0 - $f1 - $f2 - $f012 ;\n",
    "$w7 = $f4 + $f013 - $f0 - $f1 - $f2 - $f012 ;\n",
    "$w8 = $f3 + $f4 + $f012;\n",
    "$w9 = $f3 + $f4 - $f0 - $f1 - $f2 - $f012 ;\n",
    "$w10 = $f4 + $f023 + $f123 + $f014; \n",
    "$w11 = $f3 + $f4 + $f013 + $f014;\n",
    "$w12 = $f3 + $f4 + $f012 + $f2 + $f3 + $f4 + $f234;\n",
    "$w13 = $f3 + $f4 + $f012 + $f013;\n",
    "$w14 = $f3 + $f4 + $f013 - $f0 - $f1 - $f2 - $f012 ;\n",
    "$w15 = $f4 + $f023 + $f123 + $f014 - $f0 - $f1 - $f2 - $f012 ;\n",
    "$w16 = $f3 + $f4 + $f012 + $f023 + $f014;\n",
    "$w17 = $f3 + $f4 + $f012 + $f013 + $f2 + $f3 + $f4 + $f234;\n",
    "$w18 = $f3 + $f4 + $f013 + $f014 - $f0 - $f1 - $f2 - $f012;"
   ]
  },
  {
   "cell_type": "markdown",
   "metadata": {},
   "source": [
    "The polytope $\\Delta(5)$ is the convex hull in $\\mathbb{R}^5$ of the vectors\n",
    "\n",
    "\\begin{equation}\n",
    "e_0,\\, e_1,\\, e_2,\\, e_3,\\, e_4,\\, e_{012},\\, e_{013},\\, e_{023},\\, e_{123},\\, e_{014},\\, e_{024},\\, e_{124},\\, e_{034},\\, e_{134},\\, e_{234},\\, e_{01234}\n",
    "\\end{equation}\n",
    "\n",
    "where $e_0,\\ldots,e_4$ is the standard basis of $\\mathbb{R}^5$, and $e_{\\lambda_1\\cdots\\lambda_d} = e_{\\lambda_1} + \\cdots + e_{\\lambda_d}$. We record $\\Delta(5)$ as the ```Polytope``` denoted by  ```$Delta5```."
   ]
  },
  {
   "cell_type": "code",
   "execution_count": 4,
   "metadata": {},
   "outputs": [],
   "source": [
    "$Delta5 = new Polytope(POINTS => [[1, 1, 0, 0, 0, 0], [1, 0, 1, 0, 0, 0], [1, 0, 0, 1, 0, 0], [1, 0, 0, 0, 1, 0], [1, 0, 0, 0, 0, 1], [1, 1, 1, 1, 0, 0], [1, 1, 1, 0, 1, 0], [1, 1, 0, 1, 1, 0], [1, 0, 1, 1, 1, 0], [1, 1, 1, 0, 0, 1], [1, 1, 0, 1, 0, 1], [1, 0, 1, 1, 0, 1], [1, 1, 0, 0, 1, 1], [1, 0, 1, 0, 1, 1], [1, 0, 0, 1, 1, 1], [1, 1, 1, 1, 1, 1]]);"
   ]
  },
  {
   "cell_type": "markdown",
   "metadata": {},
   "source": [
    "The $\\Delta$-matroid subdivision of $\\Delta(5)$ may now be computed."
   ]
  },
  {
   "cell_type": "code",
   "execution_count": 5,
   "metadata": {},
   "outputs": [
    {
     "data": {
      "text/html": [
       "<details><summary><pre style=\"display:inline\"><small>Click here for additional output</small></pre></summary>\n",
       "<pre>\n",
       "polymake: used package cdd\n",
       "  cddlib\n",
       "  Implementation of the double description method of Motzkin et al.\n",
       "  Copyright by Komei Fukuda.\n",
       "  http://www-oldurls.inf.ethz.ch/personal/fukudak/cdd_home/\n",
       "\n",
       "</pre>\n",
       "</details>\n"
      ]
     },
     "metadata": {},
     "output_type": "display_data"
    }
   ],
   "source": [
    "$msd0 = new fan::SubdivisionOfPoints(POINTS=>$Delta5->VERTICES, WEIGHTS => $w0);\n",
    "$msd1 = new fan::SubdivisionOfPoints(POINTS=>$Delta5->VERTICES, WEIGHTS => $w1);\n",
    "$msd2 = new fan::SubdivisionOfPoints(POINTS=>$Delta5->VERTICES, WEIGHTS => $w2);\n",
    "$msd3 = new fan::SubdivisionOfPoints(POINTS=>$Delta5->VERTICES, WEIGHTS => $w3);\n",
    "$msd4 = new fan::SubdivisionOfPoints(POINTS=>$Delta5->VERTICES, WEIGHTS => $w4);\n",
    "$msd5 = new fan::SubdivisionOfPoints(POINTS=>$Delta5->VERTICES, WEIGHTS => $w5);\n",
    "$msd6 = new fan::SubdivisionOfPoints(POINTS=>$Delta5->VERTICES, WEIGHTS => $w6);\n",
    "$msd7 = new fan::SubdivisionOfPoints(POINTS=>$Delta5->VERTICES, WEIGHTS => $w7);\n",
    "$msd8 = new fan::SubdivisionOfPoints(POINTS=>$Delta5->VERTICES, WEIGHTS => $w8);\n",
    "$msd9 = new fan::SubdivisionOfPoints(POINTS=>$Delta5->VERTICES, WEIGHTS => $w9);\n",
    "$msd10 = new fan::SubdivisionOfPoints(POINTS=>$Delta5->VERTICES, WEIGHTS => $w10);\n",
    "$msd11 = new fan::SubdivisionOfPoints(POINTS=>$Delta5->VERTICES, WEIGHTS => $w11);\n",
    "$msd12 = new fan::SubdivisionOfPoints(POINTS=>$Delta5->VERTICES, WEIGHTS => $w12);\n",
    "$msd13 = new fan::SubdivisionOfPoints(POINTS=>$Delta5->VERTICES, WEIGHTS => $w13);\n",
    "$msd14 = new fan::SubdivisionOfPoints(POINTS=>$Delta5->VERTICES, WEIGHTS => $w14);\n",
    "$msd15 = new fan::SubdivisionOfPoints(POINTS=>$Delta5->VERTICES, WEIGHTS => $w15);\n",
    "$msd16 = new fan::SubdivisionOfPoints(POINTS=>$Delta5->VERTICES, WEIGHTS => $w16);\n",
    "$msd17 = new fan::SubdivisionOfPoints(POINTS=>$Delta5->VERTICES, WEIGHTS => $w17);\n",
    "$msd18 = new fan::SubdivisionOfPoints(POINTS=>$Delta5->VERTICES, WEIGHTS => $w18);"
   ]
  },
  {
   "cell_type": "markdown",
   "metadata": {},
   "source": [
    "To find the maximal cells of the subdivision ```$msdi``` (where $i=0,\\ldots,18$), run:\n",
    "\n",
    "```print $msdi -> MAXIMAL_CELLS;```\n",
    "\n",
    "The indices refer to the vertices of $\\Delta(5)$, and the order was described above. To find the (edges of) the dual graph of ```$msdi```, run\n",
    "\n",
    "```print $msdi -> POLYHEDRAL_COMPLEX -> DUAL_GRAPH -> EDGES;```.\n",
    "\n",
    "Each line is a pair of numbers which refer to the indices of the maximal cells. "
   ]
  },
  {
   "cell_type": "code",
   "execution_count": 6,
   "metadata": {},
   "outputs": [
    {
     "data": {
      "text/plain": [
       "Maximal cells: \n",
       "{1 2 5 8 11 13 14 15}\n",
       "{0 1 2 3 5 6 7 8 12 13 14 15}\n",
       "{0 1 2 4 5 9 10 11 12 13 14 15}\n",
       "{0 2 5 7 10 12 14 15}\n",
       "{0 1 5 6 9 12 13 15}\n",
       "{0 1 2 3 4 12 13 14}\n",
       "\n",
       "Edges of the dual graph: \n",
       "{0 1}\n",
       "{0 2}\n",
       "{1 2}\n",
       "{1 3}\n",
       "{2 3}\n",
       "{1 4}\n",
       "{2 4}\n",
       "{1 5}\n",
       "{2 5}\n"
      ]
     },
     "execution_count": 6,
     "metadata": {},
     "output_type": "execute_result"
    },
    {
     "data": {
      "text/html": [
       "<details><summary><pre style=\"display:inline\"><small>Click here for additional output</small></pre></summary>\n",
       "<pre>\n",
       "polymake: used package ppl\n",
       "  The Parma Polyhedra Library ([[wiki:external_software#PPL]]): A C++ library for convex polyhedra\n",
       "  and other numerical abstractions.\n",
       "  http://www.cs.unipr.it/ppl/\n",
       "\n",
       "</pre>\n",
       "</details>\n"
      ]
     },
     "metadata": {},
     "output_type": "display_data"
    }
   ],
   "source": [
    "print \"Maximal cells: \\n\";\n",
    "print $msd0 -> MAXIMAL_CELLS;\n",
    "print \"\\nEdges of the dual graph: \\n\";\n",
    "print $msd0 -> POLYHEDRAL_COMPLEX -> DUAL_GRAPH -> EDGES;"
   ]
  },
  {
   "cell_type": "code",
   "execution_count": 7,
   "metadata": {},
   "outputs": [
    {
     "data": {
      "text/plain": [
       "Maximal cells: \n",
       "{0 1 2 3 5 6 7 8 9 10 11 12 13 14 15}\n",
       "{0 1 2 3 4 9 10 11 12 13 14}\n",
       "\n",
       "Edges of the dual graph: \n",
       "{0 1}\n"
      ]
     },
     "execution_count": 7,
     "metadata": {},
     "output_type": "execute_result"
    }
   ],
   "source": [
    "print \"Maximal cells: \\n\";\n",
    "print $msd1 -> MAXIMAL_CELLS;\n",
    "print \"\\nEdges of the dual graph: \\n\";\n",
    "print $msd1 -> POLYHEDRAL_COMPLEX -> DUAL_GRAPH -> EDGES;"
   ]
  },
  {
   "cell_type": "code",
   "execution_count": 8,
   "metadata": {},
   "outputs": [
    {
     "data": {
      "text/plain": [
       "Maximal cells: \n",
       "{0 1 2 5 6 7 8 9 10 11 12 13 14 15}\n",
       "{0 1 2 3 4 12 13 14}\n",
       "{0 1 2 4 9 10 11 12 13 14}\n",
       "{0 1 2 3 6 7 8 12 13 14}\n",
       "\n",
       "Edges of the dual graph: \n",
       "{0 2}\n",
       "{1 2}\n",
       "{0 3}\n",
       "{1 3}\n"
      ]
     },
     "execution_count": 8,
     "metadata": {},
     "output_type": "execute_result"
    }
   ],
   "source": [
    "print \"Maximal cells: \\n\";\n",
    "print $msd2 -> MAXIMAL_CELLS;\n",
    "print \"\\nEdges of the dual graph: \\n\";\n",
    "print $msd2 -> POLYHEDRAL_COMPLEX -> DUAL_GRAPH -> EDGES;"
   ]
  },
  {
   "cell_type": "code",
   "execution_count": 9,
   "metadata": {},
   "outputs": [
    {
     "data": {
      "text/plain": [
       "Maximal cells: \n",
       "{0 1 2 3 6 7 8 9 10 11 12 13 14 15}\n",
       "{0 1 2 5 6 7 8 9 10 11 15}\n",
       "{0 1 2 3 4 9 10 11 12 13 14}\n",
       "\n",
       "Edges of the dual graph: \n",
       "{0 1}\n",
       "{0 2}\n"
      ]
     },
     "execution_count": 9,
     "metadata": {},
     "output_type": "execute_result"
    }
   ],
   "source": [
    "print \"Maximal cells: \\n\";\n",
    "print $msd3 -> MAXIMAL_CELLS;\n",
    "print \"\\nEdges of the dual graph: \\n\";\n",
    "print $msd3 -> POLYHEDRAL_COMPLEX -> DUAL_GRAPH -> EDGES;"
   ]
  },
  {
   "cell_type": "code",
   "execution_count": 10,
   "metadata": {},
   "outputs": [
    {
     "data": {
      "text/plain": [
       "Maximal cells: \n",
       "{0 1 2 3 5 6 7 8 12 13 14 15}\n",
       "{0 1 2 5 9 10 11 12 13 14 15}\n",
       "{0 2 5 7 10 12 14 15}\n",
       "{0 1 5 6 9 12 13 15}\n",
       "{1 2 5 8 11 13 14 15}\n",
       "{0 1 2 3 4 12 13 14}\n",
       "{0 1 2 4 9 10 11 12 13 14}\n",
       "\n",
       "Edges of the dual graph: \n",
       "{0 1}\n",
       "{0 2}\n",
       "{1 2}\n",
       "{0 3}\n",
       "{1 3}\n",
       "{0 4}\n",
       "{1 4}\n",
       "{0 5}\n",
       "{1 6}\n",
       "{5 6}\n"
      ]
     },
     "execution_count": 10,
     "metadata": {},
     "output_type": "execute_result"
    }
   ],
   "source": [
    "print \"Maximal cells: \\n\";\n",
    "print $msd4 -> MAXIMAL_CELLS;\n",
    "print \"\\nEdges of the dual graph: \\n\";\n",
    "print $msd4 -> POLYHEDRAL_COMPLEX -> DUAL_GRAPH -> EDGES;"
   ]
  },
  {
   "cell_type": "code",
   "execution_count": 11,
   "metadata": {},
   "outputs": [
    {
     "data": {
      "text/plain": [
       "Maximal cells: \n",
       "{0 1 2 3 6 7 8 10 11 12 13 14 15}\n",
       "{0 1 6 9 10 11 12 13 15}\n",
       "{0 1 5 6 9 10 11 15}\n",
       "{0 1 2 5 6 7 8 10 11 15}\n",
       "{0 1 2 3 4 10 11 12 13 14}\n",
       "{0 1 4 9 10 11 12 13}\n",
       "\n",
       "Edges of the dual graph: \n",
       "{0 1}\n",
       "{1 2}\n",
       "{0 3}\n",
       "{2 3}\n",
       "{0 4}\n",
       "{1 5}\n",
       "{4 5}\n"
      ]
     },
     "execution_count": 11,
     "metadata": {},
     "output_type": "execute_result"
    }
   ],
   "source": [
    "print \"Maximal cells: \\n\";\n",
    "print $msd5 -> MAXIMAL_CELLS;\n",
    "print \"\\nEdges of the dual graph: \\n\";\n",
    "print $msd5 -> POLYHEDRAL_COMPLEX -> DUAL_GRAPH -> EDGES;"
   ]
  },
  {
   "cell_type": "code",
   "execution_count": 12,
   "metadata": {},
   "outputs": [
    {
     "data": {
      "text/plain": [
       "Maximal cells: \n",
       "{0 1 2 3 5 6 7 8 12 13 14 15}\n",
       "{0 2 5 7 10 12 14 15}\n",
       "{0 1 2 5 10 11 12 13 14 15}\n",
       "{0 1 5 6 9 12 13 15}\n",
       "{0 1 5 9 10 11 12 13 15}\n",
       "{1 2 5 8 11 13 14 15}\n",
       "{0 1 2 3 4 12 13 14}\n",
       "{0 1 2 4 10 11 12 13 14}\n",
       "{0 1 4 9 10 11 12 13}\n",
       "\n",
       "Edges of the dual graph: \n",
       "{0 1}\n",
       "{0 2}\n",
       "{1 2}\n",
       "{0 3}\n",
       "{2 4}\n",
       "{3 4}\n",
       "{0 5}\n",
       "{2 5}\n",
       "{0 6}\n",
       "{2 7}\n",
       "{6 7}\n",
       "{4 8}\n",
       "{7 8}\n"
      ]
     },
     "execution_count": 12,
     "metadata": {},
     "output_type": "execute_result"
    }
   ],
   "source": [
    "print \"Maximal cells: \\n\";\n",
    "print $msd6 -> MAXIMAL_CELLS;\n",
    "print \"\\nEdges of the dual graph: \\n\";\n",
    "print $msd6 -> POLYHEDRAL_COMPLEX -> DUAL_GRAPH -> EDGES;"
   ]
  },
  {
   "cell_type": "code",
   "execution_count": 13,
   "metadata": {},
   "outputs": [
    {
     "data": {
      "text/plain": [
       "Maximal cells: \n",
       "{0 1 2 3 5 7 8 12 13 14 15}\n",
       "{0 1 3 5 6 7 8 12 13 15}\n",
       "{0 1 2 5 9 10 11 12 13 14 15}\n",
       "{0 1 5 6 9 12 13 15}\n",
       "{1 2 5 8 11 13 14 15}\n",
       "{0 2 5 7 10 12 14 15}\n",
       "{0 1 2 3 4 12 13 14}\n",
       "{0 1 2 4 9 10 11 12 13 14}\n",
       "\n",
       "Edges of the dual graph: \n",
       "{0 1}\n",
       "{0 2}\n",
       "{1 3}\n",
       "{2 3}\n",
       "{0 4}\n",
       "{2 4}\n",
       "{0 5}\n",
       "{2 5}\n",
       "{0 6}\n",
       "{2 7}\n",
       "{6 7}\n"
      ]
     },
     "execution_count": 13,
     "metadata": {},
     "output_type": "execute_result"
    }
   ],
   "source": [
    "print \"Maximal cells: \\n\";\n",
    "print $msd7 -> MAXIMAL_CELLS;\n",
    "print \"\\nEdges of the dual graph: \\n\";\n",
    "print $msd7 -> POLYHEDRAL_COMPLEX -> DUAL_GRAPH -> EDGES;"
   ]
  },
  {
   "cell_type": "code",
   "execution_count": 14,
   "metadata": {},
   "outputs": [
    {
     "data": {
      "text/plain": [
       "Maximal cells: \n",
       "{0 1 2 6 7 8 9 10 11 12 13 14 15}\n",
       "{0 1 2 5 6 7 8 9 10 11 15}\n",
       "{0 1 2 3 4 12 13 14}\n",
       "{0 1 2 4 9 10 11 12 13 14}\n",
       "{0 1 2 3 6 7 8 12 13 14}\n",
       "\n",
       "Edges of the dual graph: \n",
       "{0 1}\n",
       "{0 3}\n",
       "{2 3}\n",
       "{0 4}\n",
       "{2 4}\n"
      ]
     },
     "execution_count": 14,
     "metadata": {},
     "output_type": "execute_result"
    }
   ],
   "source": [
    "print \"Maximal cells: \\n\";\n",
    "print $msd8 -> MAXIMAL_CELLS;\n",
    "print \"\\nEdges of the dual graph: \\n\";\n",
    "print $msd8 -> POLYHEDRAL_COMPLEX -> DUAL_GRAPH -> EDGES;"
   ]
  },
  {
   "cell_type": "code",
   "execution_count": 15,
   "metadata": {},
   "outputs": [
    {
     "data": {
      "text/plain": [
       "Maximal cells: \n",
       "{0 1 2 5 9 10 11 12 13 14 15}\n",
       "{0 2 5 7 10 12 14 15}\n",
       "{0 1 2 5 6 7 8 12 13 14 15}\n",
       "{1 2 5 8 11 13 14 15}\n",
       "{0 1 5 6 9 12 13 15}\n",
       "{0 1 2 3 4 12 13 14}\n",
       "{0 1 2 4 9 10 11 12 13 14}\n",
       "{0 1 2 3 6 7 8 12 13 14}\n",
       "\n",
       "Edges of the dual graph: \n",
       "{0 1}\n",
       "{0 2}\n",
       "{1 2}\n",
       "{0 3}\n",
       "{2 3}\n",
       "{0 4}\n",
       "{2 4}\n",
       "{0 6}\n",
       "{5 6}\n",
       "{2 7}\n",
       "{5 7}\n"
      ]
     },
     "execution_count": 15,
     "metadata": {},
     "output_type": "execute_result"
    }
   ],
   "source": [
    "print \"Maximal cells: \\n\";\n",
    "print $msd9 -> MAXIMAL_CELLS;\n",
    "print \"\\nEdges of the dual graph: \\n\";\n",
    "print $msd9 -> POLYHEDRAL_COMPLEX -> DUAL_GRAPH -> EDGES;"
   ]
  },
  {
   "cell_type": "code",
   "execution_count": 16,
   "metadata": {},
   "outputs": [
    {
     "data": {
      "text/plain": [
       "Maximal cells: \n",
       "{0 1 5 6 9 10 11 12 13 15}\n",
       "{2 3 5 6 7 8 14 15}\n",
       "{0 1 2 3 5 6 10 11 12 13 14 15}\n",
       "{0 2 3 5 6 7 10 12 14 15}\n",
       "{1 2 3 5 6 8 11 13 14 15}\n",
       "{0 1 2 3 4 10 11 12 13 14}\n",
       "{0 1 4 9 10 11 12 13}\n",
       "\n",
       "Edges of the dual graph: \n",
       "{0 2}\n",
       "{1 3}\n",
       "{2 3}\n",
       "{1 4}\n",
       "{2 4}\n",
       "{2 5}\n",
       "{0 6}\n",
       "{5 6}\n"
      ]
     },
     "execution_count": 16,
     "metadata": {},
     "output_type": "execute_result"
    }
   ],
   "source": [
    "print \"Maximal cells: \\n\";\n",
    "print $msd10 -> MAXIMAL_CELLS;\n",
    "print \"\\nEdges of the dual graph: \\n\";\n",
    "print $msd10 -> POLYHEDRAL_COMPLEX -> DUAL_GRAPH -> EDGES;"
   ]
  },
  {
   "cell_type": "code",
   "execution_count": 17,
   "metadata": {},
   "outputs": [
    {
     "data": {
      "text/plain": [
       "Maximal cells: \n",
       "{0 1 2 5 7 8 10 11 12 13 14 15}\n",
       "{0 1 5 6 7 8 12 13 15}\n",
       "{0 1 5 9 10 11 12 13 15}\n",
       "{0 1 5 6 9 12 13 15}\n",
       "{0 1 2 3 4 12 13 14}\n",
       "{0 1 2 4 10 11 12 13 14}\n",
       "{0 1 2 3 7 8 12 13 14}\n",
       "{0 1 4 9 10 11 12 13}\n",
       "{0 1 3 6 7 8 12 13}\n",
       "\n",
       "Edges of the dual graph: \n",
       "{0 1}\n",
       "{0 2}\n",
       "{1 3}\n",
       "{2 3}\n",
       "{0 5}\n",
       "{4 5}\n",
       "{0 6}\n",
       "{4 6}\n",
       "{2 7}\n",
       "{5 7}\n",
       "{1 8}\n",
       "{6 8}\n"
      ]
     },
     "execution_count": 17,
     "metadata": {},
     "output_type": "execute_result"
    }
   ],
   "source": [
    "print \"Maximal cells: \\n\";\n",
    "print $msd11 -> MAXIMAL_CELLS;\n",
    "print \"\\nEdges of the dual graph: \\n\";\n",
    "print $msd11 -> POLYHEDRAL_COMPLEX -> DUAL_GRAPH -> EDGES;"
   ]
  },
  {
   "cell_type": "code",
   "execution_count": 18,
   "metadata": {},
   "outputs": [
    {
     "data": {
      "text/plain": [
       "Maximal cells: \n",
       "{0 1 6 7 8 9 10 11 12 13 15}\n",
       "{0 1 5 6 7 8 9 10 11 15}\n",
       "{0 1 2 7 8 10 11 12 13 14}\n",
       "{0 1 2 3 4 12 13 14}\n",
       "{0 1 2 4 10 11 12 13 14}\n",
       "{0 1 2 3 7 8 12 13 14}\n",
       "{0 1 4 9 10 11 12 13}\n",
       "{0 1 3 6 7 8 12 13}\n",
       "{0 1 2 5 7 8 10 11}\n",
       "{7 8 10 11 12 13 14 15}\n",
       "\n",
       "Edges of the dual graph: \n",
       "{0 1}\n",
       "{0 2}\n",
       "{2 4}\n",
       "{3 4}\n",
       "{2 5}\n",
       "{3 5}\n",
       "{0 6}\n",
       "{4 6}\n",
       "{0 7}\n",
       "{5 7}\n",
       "{1 8}\n",
       "{2 8}\n",
       "{0 9}\n",
       "{2 9}\n"
      ]
     },
     "execution_count": 18,
     "metadata": {},
     "output_type": "execute_result"
    }
   ],
   "source": [
    "print \"Maximal cells: \\n\";\n",
    "print $msd12 -> MAXIMAL_CELLS;\n",
    "print \"\\nEdges of the dual graph: \\n\";\n",
    "print $msd12 -> POLYHEDRAL_COMPLEX -> DUAL_GRAPH -> EDGES;"
   ]
  },
  {
   "cell_type": "code",
   "execution_count": 19,
   "metadata": {},
   "outputs": [
    {
     "data": {
      "text/plain": [
       "Maximal cells: \n",
       "{0 1 2 7 8 9 10 11 12 13 14 15}\n",
       "{0 1 6 7 8 9 12 13 15}\n",
       "{0 1 5 6 7 8 9 15}\n",
       "{0 1 2 5 7 8 9 10 11 15}\n",
       "{0 1 2 3 4 12 13 14}\n",
       "{0 1 2 3 7 8 12 13 14}\n",
       "{0 1 2 4 9 10 11 12 13 14}\n",
       "{0 1 3 6 7 8 12 13}\n",
       "\n",
       "Edges of the dual graph: \n",
       "{0 1}\n",
       "{1 2}\n",
       "{0 3}\n",
       "{2 3}\n",
       "{0 5}\n",
       "{4 5}\n",
       "{0 6}\n",
       "{4 6}\n",
       "{1 7}\n",
       "{5 7}\n"
      ]
     },
     "execution_count": 19,
     "metadata": {},
     "output_type": "execute_result"
    }
   ],
   "source": [
    "print \"Maximal cells: \\n\";\n",
    "print $msd13 -> MAXIMAL_CELLS;\n",
    "print \"\\nEdges of the dual graph: \\n\";\n",
    "print $msd13 -> POLYHEDRAL_COMPLEX -> DUAL_GRAPH -> EDGES;"
   ]
  },
  {
   "cell_type": "code",
   "execution_count": 20,
   "metadata": {},
   "outputs": [
    {
     "data": {
      "text/plain": [
       "Maximal cells: \n",
       "{0 1 5 6 7 8 12 13 15}\n",
       "{0 1 2 5 9 10 11 12 13 14 15}\n",
       "{0 1 2 5 7 8 12 13 14 15}\n",
       "{0 1 5 6 9 12 13 15}\n",
       "{1 2 5 8 11 13 14 15}\n",
       "{0 2 5 7 10 12 14 15}\n",
       "{0 1 2 3 4 12 13 14}\n",
       "{0 1 2 3 7 8 12 13 14}\n",
       "{0 1 2 4 9 10 11 12 13 14}\n",
       "{0 1 3 6 7 8 12 13}\n",
       "\n",
       "Edges of the dual graph: \n",
       "{0 2}\n",
       "{1 2}\n",
       "{0 3}\n",
       "{1 3}\n",
       "{1 4}\n",
       "{2 4}\n",
       "{1 5}\n",
       "{2 5}\n",
       "{2 7}\n",
       "{6 7}\n",
       "{1 8}\n",
       "{6 8}\n",
       "{0 9}\n",
       "{7 9}\n"
      ]
     },
     "execution_count": 20,
     "metadata": {},
     "output_type": "execute_result"
    }
   ],
   "source": [
    "print \"Maximal cells: \\n\";\n",
    "print $msd14 -> MAXIMAL_CELLS;\n",
    "print \"\\nEdges of the dual graph: \\n\";\n",
    "print $msd14 -> POLYHEDRAL_COMPLEX -> DUAL_GRAPH -> EDGES;"
   ]
  },
  {
   "cell_type": "code",
   "execution_count": 21,
   "metadata": {},
   "outputs": [
    {
     "data": {
      "text/plain": [
       "Maximal cells: \n",
       "{2 3 5 6 7 8 14 15}\n",
       "{0 2 3 5 6 7 12 14 15}\n",
       "{1 2 3 5 6 8 13 14 15}\n",
       "{0 1 2 3 5 6 12 13 14 15}\n",
       "{0 1 5 9 10 11 12 13 15}\n",
       "{0 2 5 7 10 12 14 15}\n",
       "{0 1 2 5 10 11 12 13 14 15}\n",
       "{0 1 5 6 9 12 13 15}\n",
       "{1 2 5 8 11 13 14 15}\n",
       "{0 1 2 4 10 11 12 13 14}\n",
       "{0 1 4 9 10 11 12 13}\n",
       "{0 1 2 3 4 12 13 14}\n",
       "\n",
       "Edges of the dual graph: \n",
       "{0 1}\n",
       "{0 2}\n",
       "{1 3}\n",
       "{2 3}\n",
       "{1 5}\n",
       "{3 6}\n",
       "{4 6}\n",
       "{5 6}\n",
       "{3 7}\n",
       "{4 7}\n",
       "{2 8}\n",
       "{6 8}\n",
       "{6 9}\n",
       "{4 10}\n",
       "{9 10}\n",
       "{3 11}\n",
       "{9 11}\n"
      ]
     },
     "execution_count": 21,
     "metadata": {},
     "output_type": "execute_result"
    }
   ],
   "source": [
    "print \"Maximal cells: \\n\";\n",
    "print $msd15 -> MAXIMAL_CELLS;\n",
    "print \"\\nEdges of the dual graph: \\n\";\n",
    "print $msd15 -> POLYHEDRAL_COMPLEX -> DUAL_GRAPH -> EDGES;"
   ]
  },
  {
   "cell_type": "code",
   "execution_count": 22,
   "metadata": {},
   "outputs": [
    {
     "data": {
      "text/plain": [
       "Maximal cells: \n",
       "{0 1 2 6 8 10 11 12 13 14 15}\n",
       "{0 2 6 7 8 10 12 14 15}\n",
       "{0 1 6 9 10 11 12 13 15}\n",
       "{0 1 5 6 9 10 11 15}\n",
       "{0 1 2 5 6 8 10 11 15}\n",
       "{0 2 5 6 7 8 10 15}\n",
       "{0 1 2 3 4 12 13 14}\n",
       "{0 1 2 4 10 11 12 13 14}\n",
       "{0 1 4 9 10 11 12 13}\n",
       "{0 2 3 6 7 8 12 14}\n",
       "{0 1 2 3 6 8 12 13 14}\n",
       "\n",
       "Edges of the dual graph: \n",
       "{0 1}\n",
       "{0 2}\n",
       "{2 3}\n",
       "{0 4}\n",
       "{3 4}\n",
       "{1 5}\n",
       "{4 5}\n",
       "{0 7}\n",
       "{6 7}\n",
       "{2 8}\n",
       "{7 8}\n",
       "{1 9}\n",
       "{0 10}\n",
       "{6 10}\n",
       "{9 10}\n"
      ]
     },
     "execution_count": 22,
     "metadata": {},
     "output_type": "execute_result"
    }
   ],
   "source": [
    "print \"Maximal cells: \\n\";\n",
    "print $msd16 -> MAXIMAL_CELLS;\n",
    "print \"\\nEdges of the dual graph: \\n\";\n",
    "print $msd16 -> POLYHEDRAL_COMPLEX -> DUAL_GRAPH -> EDGES;"
   ]
  },
  {
   "cell_type": "code",
   "execution_count": 23,
   "metadata": {},
   "outputs": [
    {
     "data": {
      "text/plain": [
       "Maximal cells: \n",
       "{0 1 6 7 8 9 12 13 15}\n",
       "{0 1 7 8 9 10 11 12 13 15}\n",
       "{0 1 5 7 8 9 10 11 15}\n",
       "{0 1 5 6 7 8 9 15}\n",
       "{0 1 2 7 8 10 11 12 13 14}\n",
       "{0 1 2 3 4 12 13 14}\n",
       "{0 1 2 4 10 11 12 13 14}\n",
       "{0 1 2 3 7 8 12 13 14}\n",
       "{0 1 3 6 7 8 12 13}\n",
       "{0 1 4 9 10 11 12 13}\n",
       "{0 1 2 5 7 8 10 11}\n",
       "{7 8 10 11 12 13 14 15}\n",
       "\n",
       "Edges of the dual graph: \n",
       "{0 1}\n",
       "{1 2}\n",
       "{0 3}\n",
       "{2 3}\n",
       "{1 4}\n",
       "{4 6}\n",
       "{5 6}\n",
       "{4 7}\n",
       "{5 7}\n",
       "{0 8}\n",
       "{7 8}\n",
       "{1 9}\n",
       "{6 9}\n",
       "{2 10}\n",
       "{4 10}\n",
       "{1 11}\n",
       "{4 11}\n"
      ]
     },
     "execution_count": 23,
     "metadata": {},
     "output_type": "execute_result"
    }
   ],
   "source": [
    "print \"Maximal cells: \\n\";\n",
    "print $msd17 -> MAXIMAL_CELLS;\n",
    "print \"\\nEdges of the dual graph: \\n\";\n",
    "print $msd17 -> POLYHEDRAL_COMPLEX -> DUAL_GRAPH -> EDGES;"
   ]
  },
  {
   "cell_type": "code",
   "execution_count": 24,
   "metadata": {},
   "outputs": [
    {
     "data": {
      "text/plain": [
       "Maximal cells: \n",
       "{0 2 5 7 10 12 14 15}\n",
       "{0 1 5 9 10 11 12 13 15}\n",
       "{0 1 2 5 7 8 12 13 14 15}\n",
       "{0 1 5 6 7 8 12 13 15}\n",
       "{1 2 5 8 11 13 14 15}\n",
       "{0 1 5 6 9 12 13 15}\n",
       "{0 1 2 5 10 11 12 13 14 15}\n",
       "{0 1 2 4 10 11 12 13 14}\n",
       "{0 1 2 3 7 8 12 13 14}\n",
       "{0 1 4 9 10 11 12 13}\n",
       "{0 1 3 6 7 8 12 13}\n",
       "{0 1 2 3 4 12 13 14}\n",
       "\n",
       "Edges of the dual graph: \n",
       "{0 2}\n",
       "{2 3}\n",
       "{2 4}\n",
       "{1 5}\n",
       "{3 5}\n",
       "{0 6}\n",
       "{1 6}\n",
       "{2 6}\n",
       "{4 6}\n",
       "{6 7}\n",
       "{2 8}\n",
       "{1 9}\n",
       "{7 9}\n",
       "{3 10}\n",
       "{8 10}\n",
       "{7 11}\n",
       "{8 11}\n"
      ]
     },
     "execution_count": 24,
     "metadata": {},
     "output_type": "execute_result"
    }
   ],
   "source": [
    "print \"Maximal cells: \\n\";\n",
    "print $msd18 -> MAXIMAL_CELLS;\n",
    "print \"\\nEdges of the dual graph: \\n\";\n",
    "print $msd18 -> POLYHEDRAL_COMPLEX -> DUAL_GRAPH -> EDGES;"
   ]
  }
 ],
 "metadata": {
  "kernelspec": {
   "display_name": "polymake",
   "language": "polymake",
   "name": "polymake"
  },
  "language_info": {
   "codemirror_mode": "perl",
   "file_extension": ".pl",
   "mimetype": "text/x-polymake",
   "name": "polymake"
  }
 },
 "nbformat": 4,
 "nbformat_minor": 4
}
