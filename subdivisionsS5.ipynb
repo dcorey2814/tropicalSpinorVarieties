{
 "cells": [
  {
   "cell_type": "markdown",
   "metadata": {},
   "source": [
    "# $\\Delta$-matroid subdivisions of $\\Delta(5)$\n",
    "\n",
    "In this ```polymake``` notebook, we determine all $\\Delta$-matroid subdivisions of the $\\Delta$-hypersimplex $\\Delta(5)$. This was done in [*Isotropical linear spaces and valuated Delta-matroids*](https://www.sciencedirect.com/science/article/pii/S0097316511001221?via%3Dihub) by Rinc&oacute;n, but we redo this computation here in a way that is consistent with our paper. "
   ]
  },
  {
   "cell_type": "code",
   "execution_count": null,
   "metadata": {},
   "outputs": [],
   "source": [
    "use application 'polytope';"
   ]
  },
  {
   "cell_type": "markdown",
   "metadata": {},
   "source": [
    "The fan $\\operatorname{Dr}(5)$ lives in $\\mathbb{R}^{E(5)}$ where $E(n)$ is the set of subsets $\\lambda$ of $[n]$ such that $n-|\\lambda|$ is even. The standard unit coordinate vectors of $\\mathbb{R}^{E(5)}$ are labeled by $f_{\\lambda}$  for $\\lambda \\in E(5)$, and given the following ordering.\n",
    "\n",
    "\\begin{equation}\n",
    "f_0,\\, f_1,\\, f_2,\\, f_3,\\, f_4,\\, f_{012},\\, f_{013},\\, f_{023},\\, f_{123},\\, f_{014},\\, f_{024},\\, f_{124},\\, f_{034},\\, f_{134},\\, f_{234},\\, f_{01234}.\n",
    "\\end{equation}"
   ]
  },
  {
   "cell_type": "code",
   "execution_count": null,
   "metadata": {},
   "outputs": [],
   "source": [
    "$f0 = new Vector<Rational>([1, 0, 0, 0, 0, 0, 0, 0, 0, 0, 0, 0, 0, 0, 0, 0]);\n",
    "$f1 = new Vector<Rational>([0, 1, 0, 0, 0, 0, 0, 0, 0, 0, 0, 0, 0, 0, 0, 0]);\n",
    "$f2 = new Vector<Rational>([0, 0, 1, 0, 0, 0, 0, 0, 0, 0, 0, 0, 0, 0, 0, 0]);\n",
    "$f3 = new Vector<Rational>([0, 0, 0, 1, 0, 0, 0, 0, 0, 0, 0, 0, 0, 0, 0, 0]);\n",
    "$f4 = new Vector<Rational>([0, 0, 0, 0, 1, 0, 0, 0, 0, 0, 0, 0, 0, 0, 0, 0]);\n",
    "$f012 = new Vector<Rational>([0, 0, 0, 0, 0, 1, 0, 0, 0, 0, 0, 0, 0, 0, 0, 0]);\n",
    "$f013 = new Vector<Rational>([0, 0, 0, 0, 0, 0, 1, 0, 0, 0, 0, 0, 0, 0, 0, 0]);\n",
    "$f023 = new Vector<Rational>([0, 0, 0, 0, 0, 0, 0, 1, 0, 0, 0, 0, 0, 0, 0, 0]);\n",
    "$f123 = new Vector<Rational>([0, 0, 0, 0, 0, 0, 0, 0, 1, 0, 0, 0, 0, 0, 0, 0]);\n",
    "$f014 = new Vector<Rational>([0, 0, 0, 0, 0, 0, 0, 0, 0, 1, 0, 0, 0, 0, 0, 0]);\n",
    "$f024 = new Vector<Rational>([0, 0, 0, 0, 0, 0, 0, 0, 0, 0, 1, 0, 0, 0, 0, 0]);\n",
    "$f124 = new Vector<Rational>([0, 0, 0, 0, 0, 0, 0, 0, 0, 0, 0, 1, 0, 0, 0, 0]);\n",
    "$f034 = new Vector<Rational>([0, 0, 0, 0, 0, 0, 0, 0, 0, 0, 0, 0, 1, 0, 0, 0]);\n",
    "$f134 = new Vector<Rational>([0, 0, 0, 0, 0, 0, 0, 0, 0, 0, 0, 0, 0, 1, 0, 0]);\n",
    "$f234 = new Vector<Rational>([0, 0, 0, 0, 0, 0, 0, 0, 0, 0, 0, 0, 0, 0, 1, 0]);\n",
    "$f01234 = new Vector<Rational>([0, 0, 0, 0, 0, 0, 0, 0, 0, 0, 0, 0, 0, 0, 0, 1]);"
   ]
  },
  {
   "cell_type": "markdown",
   "metadata": {},
   "source": [
    "Next, we use the fact that $\\operatorname{T}\\mathbb{S}_5^{\\circ}$, equipped with its Gr&ouml;bner fan structure, is equal to the $\\operatorname{Dr}(5)$, equipped with its secondary fan structure. The fan $\\operatorname{T}\\mathbb{S}_5^{\\circ}$ was computed using ```gfan```. The raw data is recorded in ```TS5.txt```, which was modified in the paper to be more readable. \n",
    "\n",
    "Recall that the group $G_5 \\cong \\mathfrak{S}_5 \\ltimes (\\mathfrak{S}_2)^4$ acts on the fan $\\operatorname{Dr}(5)$. Up to this symmetry, there are 19 cones, listed in Table 7.1 in the paper. Here are relative interior representatives of these cones."
   ]
  },
  {
   "cell_type": "code",
   "execution_count": null,
   "metadata": {},
   "outputs": [],
   "source": [
    "$w0 = - $f0 - $f1 - $f2 - $f012 ;\n",
    "$w1 = $f4;\n",
    "$w2 = $f3 + $f4;\n",
    "$w3 = $f4 + $f012;\n",
    "$w4 = $f4 - $f0 - $f1 - $f2 - $f012 ;\n",
    "$w5 = $f4 + $f012 + $f014;\n",
    "$w6 = $f4 + $f014 - $f0 - $f1 - $f2 - $f012 ;\n",
    "$w7 = $f4 + $f013 - $f0 - $f1 - $f2 - $f012 ;\n",
    "$w8 = $f3 + $f4 + $f012;\n",
    "$w9 = $f3 + $f4 - $f0 - $f1 - $f2 - $f012 ;\n",
    "$w10 = $f4 + $f023 + $f123 + $f014; \n",
    "$w11 = $f3 + $f4 + $f013 + $f014;\n",
    "$w12 = $f3 + $f4 + $f012 + $f2 + $f3 + $f4 + $f234;\n",
    "$w13 = $f3 + $f4 + $f012 + $f013;\n",
    "$w14 = $f3 + $f4 + $f013 - $f0 - $f1 - $f2 - $f012 ;\n",
    "$w15 = $f4 + $f023 + $f123 + $f014 - $f0 - $f1 - $f2 - $f012 ;\n",
    "$w16 = $f3 + $f4 + $f012 + $f023 + $f014;\n",
    "$w17 = $f3 + $f4 + $f012 + $f013 + $f2 + $f3 + $f4 + $f234;\n",
    "$w18 = $f3 + $f4 + $f013 + $f014 - $f0 - $f1 - $f2 - $f012;"
   ]
  },
  {
   "cell_type": "markdown",
   "metadata": {},
   "source": [
    "The polytope $\\Delta(5)$ is the convex hull in $\\mathbb{R}^5$ of the vectors\n",
    "\n",
    "\\begin{equation}\n",
    "e_0,\\, e_1,\\, e_2,\\, e_3,\\, e_4,\\, e_{012},\\, e_{013},\\, e_{023},\\, e_{123},\\, e_{014},\\, e_{024},\\, e_{124},\\, e_{034},\\, e_{134},\\, e_{234},\\, e_{01234}\n",
    "\\end{equation}\n",
    "\n",
    "where $e_0,\\ldots,e_4$ is the standard basis of $\\mathbb{R}^5$, and $e_{\\lambda_1\\cdots\\lambda_d} = e_{\\lambda_1} + \\cdots + e_{\\lambda_d}$. We record $\\Delta(5)$ as the ```Polytope``` denoted by  ```$Delta5```."
   ]
  },
  {
   "cell_type": "code",
   "execution_count": null,
   "metadata": {},
   "outputs": [],
   "source": [
    "$Delta5 = new Polytope(POINTS => [[1, 1, 0, 0, 0, 0], [1, 0, 1, 0, 0, 0], [1, 0, 0, 1, 0, 0], [1, 0, 0, 0, 1, 0], [1, 0, 0, 0, 0, 1], [1, 1, 1, 1, 0, 0], [1, 1, 1, 0, 1, 0], [1, 1, 0, 1, 1, 0], [1, 0, 1, 1, 1, 0], [1, 1, 1, 0, 0, 1], [1, 1, 0, 1, 0, 1], [1, 0, 1, 1, 0, 1], [1, 1, 0, 0, 1, 1], [1, 0, 1, 0, 1, 1], [1, 0, 0, 1, 1, 1], [1, 1, 1, 1, 1, 1]]);"
   ]
  },
  {
   "cell_type": "markdown",
   "metadata": {},
   "source": [
    "The $\\Delta$-matroid subdivision of $\\Delta(5)$ may now be computed."
   ]
  },
  {
   "cell_type": "code",
   "execution_count": null,
   "metadata": {},
   "outputs": [],
   "source": [
    "$msd0 = new fan::SubdivisionOfPoints(POINTS=>$Delta5->VERTICES, WEIGHTS => $w0);\n",
    "$msd1 = new fan::SubdivisionOfPoints(POINTS=>$Delta5->VERTICES, WEIGHTS => $w1);\n",
    "$msd2 = new fan::SubdivisionOfPoints(POINTS=>$Delta5->VERTICES, WEIGHTS => $w2);\n",
    "$msd3 = new fan::SubdivisionOfPoints(POINTS=>$Delta5->VERTICES, WEIGHTS => $w3);\n",
    "$msd4 = new fan::SubdivisionOfPoints(POINTS=>$Delta5->VERTICES, WEIGHTS => $w4);\n",
    "$msd5 = new fan::SubdivisionOfPoints(POINTS=>$Delta5->VERTICES, WEIGHTS => $w5);\n",
    "$msd6 = new fan::SubdivisionOfPoints(POINTS=>$Delta5->VERTICES, WEIGHTS => $w6);\n",
    "$msd7 = new fan::SubdivisionOfPoints(POINTS=>$Delta5->VERTICES, WEIGHTS => $w7);\n",
    "$msd8 = new fan::SubdivisionOfPoints(POINTS=>$Delta5->VERTICES, WEIGHTS => $w8);\n",
    "$msd9 = new fan::SubdivisionOfPoints(POINTS=>$Delta5->VERTICES, WEIGHTS => $w9);\n",
    "$msd10 = new fan::SubdivisionOfPoints(POINTS=>$Delta5->VERTICES, WEIGHTS => $w10);\n",
    "$msd11 = new fan::SubdivisionOfPoints(POINTS=>$Delta5->VERTICES, WEIGHTS => $w11);\n",
    "$msd12 = new fan::SubdivisionOfPoints(POINTS=>$Delta5->VERTICES, WEIGHTS => $w12);\n",
    "$msd13 = new fan::SubdivisionOfPoints(POINTS=>$Delta5->VERTICES, WEIGHTS => $w13);\n",
    "$msd14 = new fan::SubdivisionOfPoints(POINTS=>$Delta5->VERTICES, WEIGHTS => $w14);\n",
    "$msd15 = new fan::SubdivisionOfPoints(POINTS=>$Delta5->VERTICES, WEIGHTS => $w15);\n",
    "$msd16 = new fan::SubdivisionOfPoints(POINTS=>$Delta5->VERTICES, WEIGHTS => $w16);\n",
    "$msd17 = new fan::SubdivisionOfPoints(POINTS=>$Delta5->VERTICES, WEIGHTS => $w17);\n",
    "$msd18 = new fan::SubdivisionOfPoints(POINTS=>$Delta5->VERTICES, WEIGHTS => $w18);"
   ]
  },
  {
   "cell_type": "markdown",
   "metadata": {},
   "source": [
    "To find the maximal cells of the subdivision ```$msdi``` (where $i=0,\\ldots,18$), run:\n",
    "\n",
    "```print $msdi -> MAXIMAL_CELLS;```\n",
    "\n",
    "To find the (edges of) the dual graph of ```$msdi```, run\n",
    "\n",
    "``` print $msdi -> POLYHEDRAL_COMPLEX -> DUAL_GRAPH -> EDGES;```\n"
   ]
  }
 ],
 "metadata": {
  "kernelspec": {
   "display_name": "polymake",
   "language": "polymake",
   "name": "polymake"
  },
  "language_info": {
   "codemirror_mode": "perl",
   "file_extension": ".pl",
   "mimetype": "text/x-polymake",
   "name": "polymake"
  }
 },
 "nbformat": 4,
 "nbformat_minor": 4
}
