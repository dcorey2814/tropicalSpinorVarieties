{
 "cells": [
  {
   "cell_type": "markdown",
   "metadata": {},
   "source": [
    "# From ```gfan``` computation to $\\operatorname*{T}\\mathbb{S}_5^{\\circ}$. \n",
    "The rays of $\\operatorname*{T}\\mathbb{S}_5^{\\circ}$ computed by ```gfan```, as they appear in ```TS5.txt``` are complicated expressions, so in the paper we use different primitive generators modulo the lineality space. In this ```sage``` notebook, we verify that these are the same. \n",
    "\n",
    "Recall that $\\operatorname*{T}\\mathbb{S}_5^{\\circ}$ is a fan in $\\mathbb{R}^{E(5)}$ where $E(n)$ is the set of subsets $\\lambda$ of $[n]$ such that $n-|\\lambda|$ is even. The standard unit coordinate vectors of $\\mathbb{R}^{E(5)}$ are labeled by $f_{\\lambda}$  for $\\lambda \\in E(5)$, and given the following ordering.\n",
    "\n",
    "\\begin{equation}\n",
    "f_0,\\, f_1,\\, f_2,\\, f_3,\\, f_4,\\, f_{012},\\, f_{013},\\, f_{023},\\, f_{123},\\, f_{014},\\, f_{024},\\, f_{124},\\, f_{034},\\, f_{134},\\, f_{234},\\, f_{01234}.\n",
    "\\end{equation}"
   ]
  },
  {
   "cell_type": "markdown",
   "metadata": {},
   "source": [
    "First, we extract from ```linealityS5.dat``` the lineality space. "
   ]
  },
  {
   "cell_type": "code",
   "execution_count": 1,
   "metadata": {},
   "outputs": [],
   "source": [
    "with open(\"linealityS5.dat\" ,'r') as lF:\n",
    "    lFLines = lF.readlines()\n",
    "    linealityS5 = list(map(lambda x: vector(map(lambda y: int(y), x.split(\" \"))), lFLines))"
   ]
  },
  {
   "cell_type": "markdown",
   "metadata": {},
   "source": [
    "Next, we extract from ```raysS5gfan.dat``` the rays from the raw ```gfan``` output."
   ]
  },
  {
   "cell_type": "code",
   "execution_count": 2,
   "metadata": {},
   "outputs": [],
   "source": [
    "with open(\"raysS5gfan.dat\" ,'r') as rF:\n",
    "    rFLines = rF.readlines()\n",
    "    raysS5gfan = list(map(lambda x: vector(map(lambda y: int(y), x.split(\" \"))), rFLines))"
   ]
  },
  {
   "cell_type": "markdown",
   "metadata": {},
   "source": [
    "And now, we extract from ```raysS5.dat``` the rays as they appear in the paper."
   ]
  },
  {
   "cell_type": "code",
   "execution_count": 3,
   "metadata": {},
   "outputs": [],
   "source": [
    "with open(\"raysS5.dat\" ,'r') as rF:\n",
    "    rFLines = rF.readlines()\n",
    "    raysS5 = list(map(lambda x: vector(map(lambda y: int(y), x.split(\" \"))), rFLines))"
   ]
  },
  {
   "cell_type": "markdown",
   "metadata": {},
   "source": [
    "There was a reordering of the rays from ```gfan``` to the paper, here is a dictionary recording this. "
   ]
  },
  {
   "cell_type": "code",
   "execution_count": 4,
   "metadata": {},
   "outputs": [],
   "source": [
    "oldToNewRayIndex = {\n",
    "0:16, 1:17, 2:20, 3:35, 4:18, 5:21, 6:34, 7:23,\n",
    "8:32, 9:29, 10:19, 11:22, 12:33, 13:24, 14:31, 15:28,\n",
    "16:25, 17:30, 18:27, 19:26, 20:0, 21:15, 22:14, 23:13,\n",
    "24:11, 25:8, 26:1, 27:12, 28:10, 29:7, 30:2, 31:9,\n",
    "32:6, 33:3, 34:5, 35:4\n",
    "} "
   ]
  },
  {
   "cell_type": "markdown",
   "metadata": {},
   "source": [
    "Here are two functions which we use to check that the rays recorded in the paper are the same as the rays from ```gfan```. Because $\\operatorname*{T}\\mathbb{S}_5^{\\circ}$ has a lineality space $L_5$, the rays $r$ and $r'$ determines the same cones in $\\operatorname*{T}\\mathbb{S}_5^{\\circ}$ if and only if \n",
    "\\begin{equation}\n",
    "\\mathbb{R}_{\\geq 0} r + L_5 =\\mathbb{R}_{\\geq 0} r' +  L_5.\n",
    "\\end{equation}"
   ]
  },
  {
   "cell_type": "code",
   "execution_count": 5,
   "metadata": {},
   "outputs": [],
   "source": [
    "def indexToCone(c, rs, lin):\n",
    "    return Polyhedron(rays = [vector(rs[i]) for i in c], lines = lin, base_ring=QQ)\n",
    "\n",
    "def checkRays(i):\n",
    "    oldRay = i\n",
    "    newRay = oldToNewRayIndex[oldRay]\n",
    "    C1 = indexToCone([oldRay], raysS5gfan, linealityS5 )\n",
    "    C2 = indexToCone([newRay], raysS5, linealityS5 )\n",
    "    return -C1==C2 ## since gfan uses max convention, but we use min."
   ]
  },
  {
   "cell_type": "markdown",
   "metadata": {},
   "source": [
    "Finally, we perform this check on all 36 rays. "
   ]
  },
  {
   "cell_type": "code",
   "execution_count": 6,
   "metadata": {},
   "outputs": [
    {
     "data": {
      "text/plain": [
       "True"
      ]
     },
     "execution_count": 6,
     "metadata": {},
     "output_type": "execute_result"
    }
   ],
   "source": [
    "all(list(map(checkRays, range(36))))"
   ]
  }
 ],
 "metadata": {
  "kernelspec": {
   "display_name": "SageMath 9.0",
   "language": "sage",
   "name": "sagemath"
  },
  "language_info": {
   "codemirror_mode": {
    "name": "ipython",
    "version": 3
   },
   "file_extension": ".py",
   "mimetype": "text/x-python",
   "name": "python",
   "nbconvert_exporter": "python",
   "pygments_lexer": "ipython3",
   "version": "3.8.5"
  }
 },
 "nbformat": 4,
 "nbformat_minor": 4
}
