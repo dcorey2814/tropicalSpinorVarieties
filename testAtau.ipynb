{
 "cells": [
  {
   "cell_type": "markdown",
   "metadata": {},
   "source": [
    "# Proof of Lemma 7.8.\n",
    "To prove Lemma 7.8, we apply Lemma 7.2 to each nonmaximal cone $\\tau$; of $\\Sigma_5$. The collections of cones $A_{\\tau}$ are listed in Table 7.1. To verify Equation 7.1 for these cones, see the sage file ```testAtau.sage``` (this works with sage 9.0). "
   ]
  },
  {
   "cell_type": "code",
   "execution_count": 1,
   "metadata": {},
   "outputs": [],
   "source": [
    "from itertools import chain, combinations"
   ]
  },
  {
   "cell_type": "markdown",
   "metadata": {},
   "source": [
    "Extract from ```raysS5.dat``` the rays as they appear in the paper."
   ]
  },
  {
   "cell_type": "code",
   "execution_count": 2,
   "metadata": {},
   "outputs": [],
   "source": [
    "with open(\"raysS5.dat\" ,'r') as rF:\n",
    "    rFLines = rF.readlines()\n",
    "    raysS5 = list(map(lambda x: vector(map(lambda y: int(y), x.split(\" \"))), rFLines))"
   ]
  },
  {
   "cell_type": "markdown",
   "metadata": {},
   "source": [
    "Extract from ```linealityS5.dat``` the lineality space. "
   ]
  },
  {
   "cell_type": "code",
   "execution_count": 3,
   "metadata": {},
   "outputs": [],
   "source": [
    "with open(\"linealityS5.dat\" ,'r') as lF:\n",
    "    lFLines = lF.readlines()\n",
    "    linealityS5 = list(map(lambda x: vector(map(lambda y: int(y), x.split(\" \"))), lFLines))"
   ]
  },
  {
   "cell_type": "markdown",
   "metadata": {},
   "source": [
    "The list ```E5``` records the elements of $E(5)$ given in the following order:\n",
    "\n",
    "\\begin{equation}\n",
    "0,\\, 1,\\, 2,\\, 3,\\, 4,\\, 012,\\, 013,\\, 023,\\, 123,\\, 014,\\, 024,\\, 124,\\, 034,\\, 134,\\, 234,\\, 01234.\n",
    "\\end{equation}"
   ]
  },
  {
   "cell_type": "code",
   "execution_count": 4,
   "metadata": {},
   "outputs": [],
   "source": [
    "E5 = list(map(lambda x: tuple(x), [[0], [1], [2], [3], [4], \n",
    "[0,1,2], [0,1,3], [0,2,3], [1,2,3], [0,1,4], [0,2,4], [1,2,4],\n",
    "[0,3,4], [1,3,4], [2,3,4], [0,1,2,3,4] ]))"
   ]
  },
  {
   "cell_type": "markdown",
   "metadata": {},
   "source": [
    "Here are some functions necessary for this verification. Brief descriptions are also given."
   ]
  },
  {
   "cell_type": "code",
   "execution_count": 5,
   "metadata": {},
   "outputs": [],
   "source": [
    "def coneMatrix(rays, lineality, cone):\n",
    "    return matrix(QQ, [rays[i] for i in cone]+lineality)\n",
    "#Matrix whose rows are the rays and lineality of the cone, where the cone is given by a list of ray indices.\n",
    "\n",
    "def S5ToSE5(sigma):\n",
    "    sigmaE5 = list(map(lambda x: tuple(sorted(list(map(lambda y: sigma[y] , x )))), E5   ))\n",
    "    return tuple(map(lambda x: E5.index(x), sigmaE5))\n",
    "# given a permutation of S5, returns a permutation of SE5 = S16.  \n",
    "\n",
    "def sigmaOnVector(sigma, v):\n",
    "    sigmaInv = [sigma.index(i) for i in range(len(sigma))]\n",
    "    sigmaE5 = S5ToSE5(sigmaInv)\n",
    "    return vector(map(lambda i: v[sigmaE5[i]], range(len(v)) ))\n",
    "# given a permutation of S5 and vector in R^ES5 = R^16, returns the vector sigma.v by permuting the coordinates.\n",
    "\n",
    "\n",
    "def twistBymu(mu):\n",
    "    twistmu = list(map(lambda x: tuple(sorted(list(set(x).symmetric_difference(set(mu))))), E5))\n",
    "    return tuple(map(lambda x: E5.index(x), twistmu))\n",
    "# given an even subset mu of [5] of S5, returns a permutation of SE5 = S16 induced by twisting the odd subsets of [5].  \n",
    "\n",
    "def twistOnVector(mu, v):\n",
    "    twistmu = twistBymu(mu)\n",
    "    return vector(map(lambda i: v[twistmu[i]], range(len(v)) ))\n",
    "# given an even subset mu [5] and vector v in R^ES5 = R^16, returns the vector obtained by permuting the coordinates induced by the twist of mu on the odd subsets of [5].\n",
    "\n",
    "def sigmaOnCone(tau, sigma):\n",
    "    rs =  list(map(lambda x: vector(x), tau.rays()))\n",
    "    ls =  list(map(lambda x: vector(x), tau.lines()))\n",
    "    sigmars = list(map(lambda v: sigmaOnVector(sigma, v), rs))   \n",
    "    return Polyhedron(rays = sigmars, lines = ls, base_ring=QQ)\n",
    "# given cone tau and permutation sigma of [5] returns new cone induced by the permutation of the coordinates by sigma.\n",
    "\n",
    "def twistmuCone(tau, mu):\n",
    "    rs =  list(map(lambda x: vector(x), tau.rays()))\n",
    "    ls =  list(map(lambda x: vector(x), tau.lines()))\n",
    "    twistrs = list(map(lambda v: twistOnVector(mu, v), rs))   \n",
    "    return Polyhedron(rays = twistrs, lines = ls, base_ring=QQ)\n",
    "# given cone tau and even subset mu of [5] returns new cone induced by the permutation of the coordinates by twisting by mu.\n",
    "\n",
    "    \n",
    "def sigmaTwistCone(taui, sigma, mu):\n",
    "    return sigmaOnCone(twistmuCone(indexToCone(taui), mu), sigma)\n",
    "# given cone as a tuple of ray indices taui, permutation sigma of [5], and even subset mu, returns the cone obtained by twisting by mu, then permuting by sigma. \n",
    "\n",
    "def indexToCone(taui):\n",
    "    return Polyhedron(rays = [raysS5[i] for i in taui], lines = linealityS5, base_ring=QQ)\n",
    "# given a tuple of indices of rays, returns the cone with these rays.\n"
   ]
  },
  {
   "cell_type": "markdown",
   "metadata": {},
   "source": [
    "```Atau1``` is a dictionary of the data from Table 7.1 in the paper."
   ]
  },
  {
   "cell_type": "code",
   "execution_count": 6,
   "metadata": {},
   "outputs": [],
   "source": [
    "Atau1 = {}\n",
    "Atau1[tuple([])] = [[(0,1,2,3,4), set([2,3]), (4,7,8,9,26)], [(0,3,2,1,4), set([0,3]), (4,7,8,9,26)]]\n",
    "Atau1[tuple([26])] = [[(0,2,1,3,4), set([]), (4,7,8,9,26)], [(0,1,2,4,3), set([]), (4,7,8,9,26)], [(0,2,1,4,3), set([]), (4,7,8,9,26)]]\n",
    "Atau1[tuple([4])] = [[(0,4,1,3,2), set([1,4]), (4,7,8,9,26)], [(2,1,4,3,0), set([0,3]), (4,7,8,9,26)]]\n",
    "Atau1[(3,4)] = [[(2,0,1,3,4), set([3,4]), (3,4,5,7,9)], [(2,1,0,4,3), set([]), (3,4,5,7,9)]]\n",
    "Atau1[(4,5)]  = [[(3,4,0,2,1), set([2,3]), (4,7,8,9,26)], [(2,3,0,1,4), set([]), (4,7,8,9,26)]]\n",
    "Atau1[(4,26)] = [[(0,1,2,3,4), set([]), (4,7,8,9,26)], [(1,2,0,3,4), set([]), (4,7,8,9,26)], [(0,2,1,3,4), set([]), (4,7,8,9,26)]]\n",
    "Atau1[(4,5,9)] = [[(0,1,2,3,4), set([]), (3,4,5,7,9)], [(0,1,4,2,3), set([2,3]), (3,4,5,6,25)]]\n",
    "Atau1[(4,9,26)] = [[(0,1,2,3,4), set([]), (4,7,8,9,26)], [(3,4,1,0,2), set([0,2]), (3,4,5,6,25)], [(3,4,1,0,2), set([0,3]), (3,4,5,6,25)]]\n",
    "Atau1[(4,6,26)] = [[(1,2,0,3,4), set([]), (4,7,8,9,26)], [(0,2,1,3,4), set([]), (4,7,8,9,26)]]\n",
    "Atau1[(3,4,5)] = [[(0,1,2,3,4), set([]), (3,4,5,7,9)], [(0,1,2,3,4), set([]), (3,4,5,6,25)]]\n",
    "Atau1[(3,4,26)] = [[(4,3,0,2,1), set([0,3]), (3,4,5,6,25)], [(3,4,0,2,1), set([0,3]), (3,4,5,6,25)]]\n",
    "Atau1[(4,7,8,9)] = [[(0,1,2,3,4), set([]), (4,7,8,9,26)], [(0,1,3,2,4), set([]), (4,7,8,9,26)]]\n",
    "Atau1[(3,4,5,25)] = [[(0,1,2,3,4), set([]), (3,4,5,6,25)], [(0,1,2,4,3), set([]), (3,4,5,6,25)]]\n",
    "Atau1[(3,4,5,6)] = [[(0,2,1,3,4), set([]), (3,4,5,7,9)], [(1,0,2,4,3), set([]), (3,4,5,7,9)]]\n",
    "Atau1[(3,4,6,26)] = [[(3,4,2,0,1), set([0,3]), (3,4,5,6,25)], [(3,4,2,1,0), set([0,3]), (3,4,5,6,25)]]"
   ]
  },
  {
   "cell_type": "markdown",
   "metadata": {},
   "source": [
    "```Atau2``` is a similar dictionary, just that the permutation and twist are carried out by hand. "
   ]
  },
  {
   "cell_type": "code",
   "execution_count": 7,
   "metadata": {},
   "outputs": [],
   "source": [
    "Atau2 = {}\n",
    "Atau2[tuple([])] = [(0,1,14,15,16), (2,7,9,13,18)]\n",
    "Atau2[tuple([26])] = [(4, 6, 8, 10, 26), (3, 6, 10, 11, 26), (3, 7, 9, 11, 26)]\n",
    "Atau2[tuple([4])] = [(0, 4, 8, 15, 20), (4, 6, 7, 11, 22)]\n",
    "Atau2[(3,4)] = [(3, 4, 7, 11, 15), (3, 4, 5, 8, 10)]\n",
    "Atau2[(4,5)]  = [(3, 4, 5, 15, 23), (4, 5, 6, 14, 28)]\n",
    "Atau2[(4,26)] = [(4, 7, 8, 9, 26), (4, 6, 7, 11, 26), (4, 6, 8, 10, 26)]\n",
    "Atau2[(4,5,9)] = [(3, 4, 5, 7, 9), (4, 5, 9, 14, 25)]\n",
    "Atau2[(4,9,26)] = [(4, 7, 8, 9, 26), (4, 6, 8, 9, 26), (3, 4, 7, 9, 26)]\n",
    "Atau2[(4,6,26)] = [(4, 6, 7, 11, 26), (4, 6, 8, 10, 26)]\n",
    "Atau2[(3,4,5)] = [(3, 4, 5, 7, 9), (3, 4, 5, 6, 25)]\n",
    "Atau2[(3,4,26)] = [(3, 4, 7, 11, 26), (3, 4, 8, 10, 26)]\n",
    "Atau2[(4,7,8,9)] = [(4, 7, 8, 9, 26), (4, 7, 8, 9, 27)]\n",
    "Atau2[(3,4,5,25)] = [(3, 4, 5, 6, 25), (3, 4, 5, 9, 25)]\n",
    "Atau2[(3,4,5,6)] = [(3, 4, 5, 6, 10), (3, 4, 5, 6, 11)]\n",
    "Atau2[(3,4,6,26)] = [(3, 4, 6, 10, 26), (3, 4, 6, 11, 26)]"
   ]
  },
  {
   "cell_type": "markdown",
   "metadata": {},
   "source": [
    "We verify that the dictionaries ```Atau``` and ```Atau2``` give the same cones. "
   ]
  },
  {
   "cell_type": "code",
   "execution_count": 8,
   "metadata": {},
   "outputs": [
    {
     "name": "stdout",
     "output_type": "stream",
     "text": [
      "True\n",
      "True\n",
      "True\n",
      "True\n",
      "True\n",
      "True\n",
      "True\n",
      "True\n",
      "True\n",
      "True\n",
      "True\n",
      "True\n",
      "True\n",
      "True\n",
      "True\n"
     ]
    }
   ],
   "source": [
    "for taui in Atau1.keys():\n",
    "    C1s = list(map(lambda x: sigmaTwistCone(x[2], x[0], x[1]), Atau1[taui]))\n",
    "    C2s = list(map(lambda y: indexToCone(y), Atau2[taui]))\n",
    "    print(all([C1s[i] == C2s[i] for i in range(len(C1s))]))"
   ]
  },
  {
   "cell_type": "markdown",
   "metadata": {},
   "source": [
    "Here is a function to see if Lemma 7.2 is satisfied for $\\tau$ and $A_{\\tau}$."
   ]
  },
  {
   "cell_type": "code",
   "execution_count": 9,
   "metadata": {},
   "outputs": [],
   "source": [
    "def testAtau(tau,AtauV):\n",
    "    matricesR = map( lambda s: coneMatrix(raysS5, linealityS5, s), AtauV )\n",
    "    matricesS = map( lambda R: kernel(transpose(R)).matrix(), matricesR  )\n",
    "    S = block_matrix( [[ transpose(Si) for Si in matricesS ]] , subdivide = False  )\n",
    "    tauM = coneMatrix(raysS5, linealityS5, tau)\n",
    "    return 16-rank(tauM) == rank(S)"
   ]
  },
  {
   "cell_type": "markdown",
   "metadata": {},
   "source": [
    "Finally, we verify Lemma 7.8. "
   ]
  },
  {
   "cell_type": "code",
   "execution_count": 10,
   "metadata": {},
   "outputs": [
    {
     "data": {
      "text/plain": [
       "True"
      ]
     },
     "execution_count": 10,
     "metadata": {},
     "output_type": "execute_result"
    }
   ],
   "source": [
    "all(list(map(lambda x: testAtau(x,Atau2[x]), Atau2.keys())))"
   ]
  }
 ],
 "metadata": {
  "kernelspec": {
   "display_name": "SageMath 9.0",
   "language": "sage",
   "name": "sagemath"
  },
  "language_info": {
   "codemirror_mode": {
    "name": "ipython",
    "version": 3
   },
   "file_extension": ".py",
   "mimetype": "text/x-python",
   "name": "python",
   "nbconvert_exporter": "python",
   "pygments_lexer": "ipython3",
   "version": "3.8.5"
  }
 },
 "nbformat": 4,
 "nbformat_minor": 4
}
